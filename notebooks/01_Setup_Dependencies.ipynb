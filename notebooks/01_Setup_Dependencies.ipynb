{
 "cells": [
  {
   "cell_type": "markdown",
   "metadata": {},
   "source": [
    "# Setup All Project Dependencies"
   ]
  },
  {
   "cell_type": "code",
   "execution_count": 2,
   "metadata": {
    "ExecuteTime": {
     "end_time": "2021-04-19T22:39:42.253476Z",
     "start_time": "2021-04-19T22:39:42.129896Z"
    }
   },
   "outputs": [
    {
     "name": "stdout",
     "output_type": "stream",
     "text": [
      "Python 3.7.4\r\n"
     ]
    }
   ],
   "source": [
    "!python --version # 3.7.4"
   ]
  },
  {
   "cell_type": "code",
   "execution_count": 3,
   "metadata": {
    "ExecuteTime": {
     "end_time": "2021-04-19T22:39:58.725696Z",
     "start_time": "2021-04-19T22:39:58.259217Z"
    },
    "collapsed": true
   },
   "outputs": [
    {
     "name": "stdout",
     "output_type": "stream",
     "text": [
      "Package           Version\r\n",
      "----------------- ---------\r\n",
      "appdirs           1.4.4\r\n",
      "astroid           2.4.2\r\n",
      "attrs             20.3.0\r\n",
      "Automat           20.2.0\r\n",
      "certifi           2020.6.20\r\n",
      "cffi              1.14.4\r\n",
      "constantly        15.1.0\r\n",
      "cryptography      3.3.1\r\n",
      "cssselect         1.1.0\r\n",
      "distlib           0.3.1\r\n",
      "filelock          3.0.12\r\n",
      "hyperlink         20.0.1\r\n",
      "idna              2.10\r\n",
      "incremental       17.5.0\r\n",
      "isort             5.6.4\r\n",
      "itemadapter       0.2.0\r\n",
      "jedi              0.17.2\r\n",
      "jmespath          0.10.0\r\n",
      "lazy-object-proxy 1.4.3\r\n",
      "lxml              4.6.2\r\n",
      "mccabe            0.6.1\r\n",
      "numpy             1.19.4\r\n",
      "pandas            1.1.5\r\n",
      "parsel            1.6.0\r\n",
      "parso             0.7.1\r\n",
      "pip               21.0.1\r\n",
      "pyasn1            0.4.8\r\n",
      "pyasn1-modules    0.2.8\r\n",
      "pycparser         2.20\r\n",
      "PyHamcrest        2.0.2\r\n",
      "pylint            2.6.0\r\n",
      "pyspark           2.4.3\r\n",
      "python-dateutil   2.8.1\r\n",
      "pytz              2020.5\r\n",
      "selenium          3.141.0\r\n",
      "setuptools        47.1.0\r\n",
      "six               1.15.0\r\n",
      "toml              0.10.2\r\n",
      "urllib3           1.25.11\r\n",
      "virtualenv        20.2.2\r\n",
      "w3lib             1.22.0\r\n",
      "wrapt             1.12.1\r\n",
      "zope.interface    5.2.0\r\n"
     ]
    }
   ],
   "source": [
    "!pip list"
   ]
  },
  {
   "cell_type": "markdown",
   "metadata": {},
   "source": [
    "## Openpyxl"
   ]
  },
  {
   "cell_type": "code",
   "execution_count": 13,
   "metadata": {
    "ExecuteTime": {
     "end_time": "2021-04-19T22:55:26.903565Z",
     "start_time": "2021-04-19T22:55:24.625719Z"
    }
   },
   "outputs": [
    {
     "name": "stdout",
     "output_type": "stream",
     "text": [
      "Collecting openpyxl\n",
      "  Downloading openpyxl-3.0.7-py2.py3-none-any.whl (243 kB)\n",
      "\u001b[K     |████████████████████████████████| 243 kB 4.6 MB/s eta 0:00:01\n",
      "\u001b[?25hCollecting et-xmlfile\n",
      "  Downloading et_xmlfile-1.0.1.tar.gz (8.4 kB)\n",
      "Using legacy 'setup.py install' for et-xmlfile, since package 'wheel' is not installed.\n",
      "Installing collected packages: et-xmlfile, openpyxl\n",
      "    Running setup.py install for et-xmlfile ... \u001b[?25ldone\n",
      "\u001b[?25hSuccessfully installed et-xmlfile-1.0.1 openpyxl-3.0.7\n"
     ]
    }
   ],
   "source": [
    "!pip install openpyxl"
   ]
  },
  {
   "cell_type": "markdown",
   "metadata": {},
   "source": [
    "## Matplotlib"
   ]
  },
  {
   "cell_type": "code",
   "execution_count": null,
   "metadata": {},
   "outputs": [],
   "source": [
    "!pip install --disable-pip-version-check -q matplotlib==3.3.2"
   ]
  },
  {
   "cell_type": "markdown",
   "metadata": {},
   "source": [
    "## Seaborn"
   ]
  },
  {
   "cell_type": "code",
   "execution_count": null,
   "metadata": {},
   "outputs": [],
   "source": [
    "!pip install --disable-pip-version-check -q seaborn==0.11.1"
   ]
  }
 ],
 "metadata": {
  "kernelspec": {
   "display_name": "Python 3",
   "language": "python",
   "name": "python3"
  },
  "language_info": {
   "codemirror_mode": {
    "name": "ipython",
    "version": 3
   },
   "file_extension": ".py",
   "mimetype": "text/x-python",
   "name": "python",
   "nbconvert_exporter": "python",
   "pygments_lexer": "ipython3",
   "version": "3.7.4"
  },
  "toc": {
   "base_numbering": 1,
   "nav_menu": {},
   "number_sections": true,
   "sideBar": true,
   "skip_h1_title": false,
   "title_cell": "Table of Contents",
   "title_sidebar": "Contents",
   "toc_cell": false,
   "toc_position": {},
   "toc_section_display": true,
   "toc_window_display": false
  },
  "varInspector": {
   "cols": {
    "lenName": 16,
    "lenType": 16,
    "lenVar": 40
   },
   "kernels_config": {
    "python": {
     "delete_cmd_postfix": "",
     "delete_cmd_prefix": "del ",
     "library": "var_list.py",
     "varRefreshCmd": "print(var_dic_list())"
    },
    "r": {
     "delete_cmd_postfix": ") ",
     "delete_cmd_prefix": "rm(",
     "library": "var_list.r",
     "varRefreshCmd": "cat(var_dic_list()) "
    }
   },
   "types_to_exclude": [
    "module",
    "function",
    "builtin_function_or_method",
    "instance",
    "_Feature"
   ],
   "window_display": false
  }
 },
 "nbformat": 4,
 "nbformat_minor": 4
}
