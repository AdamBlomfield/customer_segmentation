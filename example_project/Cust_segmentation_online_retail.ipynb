{
 "cells": [
  {
   "cell_type": "markdown",
   "metadata": {},
   "source": [
    "# Customer Segmentation\n",
    "\n",
    "We will be using E-commerce dataset of user purchases and try develop a model that allow us to do two things:\n",
    "\n",
    "1. Classifying customers into segments.\n",
    "2. Anticipate the purchases that will be made by a new customer, during the following year and \n",
    "   this, from its first purchase by assigning them appropriate cluster/segment \n"
   ]
  },
  {
   "cell_type": "markdown",
   "metadata": {},
   "source": [
    "## ** Import dependancies **"
   ]
  },
  {
   "cell_type": "code",
   "execution_count": 1,
   "metadata": {
    "ExecuteTime": {
     "end_time": "2021-04-28T19:28:25.901075Z",
     "start_time": "2021-04-28T19:28:23.450979Z"
    },
    "_cell_guid": "705714b1-870b-4f34-b5bf-cd027dafaefe",
    "_kg_hide-input": true,
    "_uuid": "bb40a7b23734d82876d812fab6daecd83a46368c"
   },
   "outputs": [],
   "source": [
    "from __future__ import division\n",
    "import pandas as pd\n",
    "import numpy as np\n",
    "import matplotlib as mpl\n",
    "import matplotlib.pyplot as plt\n",
    "import seaborn as sns\n",
    "import datetime, nltk, warnings\n",
    "import matplotlib.cm as cm\n",
    "import itertools\n",
    "from pathlib import Path\n",
    "from sklearn.preprocessing import StandardScaler\n",
    "from sklearn.cluster import KMeans\n",
    "from sklearn.metrics import silhouette_samples, silhouette_score\n",
    "from sklearn import preprocessing, model_selection, metrics, feature_selection\n",
    "from sklearn.model_selection import GridSearchCV, learning_curve\n",
    "from sklearn.svm import SVC\n",
    "from sklearn.metrics import confusion_matrix\n",
    "from sklearn import neighbors, linear_model, svm, tree, ensemble\n",
    "# from wordcloud import WordCloud, STOPWORDS\n",
    "from sklearn.ensemble import AdaBoostClassifier\n",
    "from sklearn.decomposition import PCA\n",
    "from IPython.display import display, HTML\n",
    "#import plotly.plotly as py\n",
    "#import plotly.graph_objs as go\n",
    "#from plotly.offline import init_notebook_mode,iplot\n",
    "#init_notebook_mode(connected=True)\n",
    "#warnings.filterwarnings(\"ignore\")\n",
    "#plt.rcParams[\"patch.force_edgecolor\"] = True\n",
    "#plt.style.use('fivethirtyeight')\n",
    "#mpl.rc('patch', edgecolor = 'dimgray', linewidth=1)\n",
    "%matplotlib inline"
   ]
  },
  {
   "cell_type": "markdown",
   "metadata": {},
   "source": [
    "## **  Data Preparation **"
   ]
  },
  {
   "cell_type": "code",
   "execution_count": 2,
   "metadata": {
    "ExecuteTime": {
     "end_time": "2021-04-28T19:28:28.563950Z",
     "start_time": "2021-04-28T19:28:25.903122Z"
    },
    "_cell_guid": "1063f9e0-e494-4873-939f-8aa5ca40cc89",
    "_kg_hide-input": true,
    "_uuid": "227fc0cb1d5216d52e057e1d2d7debd0e29abe46",
    "scrolled": false
   },
   "outputs": [
    {
     "name": "stdout",
     "output_type": "stream",
     "text": [
      "Dataframe dimensions: (541909, 8)\n"
     ]
    }
   ],
   "source": [
    "# read the datafile\n",
    "df_initial = pd.read_csv('data.csv',encoding=\"ISO-8859-1\",\n",
    "                         dtype={'CustomerID': str,'InvoiceID': str})\n",
    "print('Dataframe dimensions:', df_initial.shape)\n",
    "df_initial['InvoiceDate'] = pd.to_datetime(df_initial['InvoiceDate'])\n",
    "\n",
    "\n"
   ]
  },
  {
   "cell_type": "code",
   "execution_count": 3,
   "metadata": {
    "ExecuteTime": {
     "end_time": "2021-04-28T19:28:28.633083Z",
     "start_time": "2021-04-28T19:28:28.566492Z"
    }
   },
   "outputs": [
    {
     "data": {
      "text/html": [
       "<div>\n",
       "<style scoped>\n",
       "    .dataframe tbody tr th:only-of-type {\n",
       "        vertical-align: middle;\n",
       "    }\n",
       "\n",
       "    .dataframe tbody tr th {\n",
       "        vertical-align: top;\n",
       "    }\n",
       "\n",
       "    .dataframe thead th {\n",
       "        text-align: right;\n",
       "    }\n",
       "</style>\n",
       "<table border=\"1\" class=\"dataframe\">\n",
       "  <thead>\n",
       "    <tr style=\"text-align: right;\">\n",
       "      <th></th>\n",
       "      <th>InvoiceNo</th>\n",
       "      <th>StockCode</th>\n",
       "      <th>Description</th>\n",
       "      <th>Quantity</th>\n",
       "      <th>InvoiceDate</th>\n",
       "      <th>UnitPrice</th>\n",
       "      <th>CustomerID</th>\n",
       "      <th>Country</th>\n",
       "    </tr>\n",
       "  </thead>\n",
       "  <tbody>\n",
       "    <tr>\n",
       "      <th>0</th>\n",
       "      <td>536365</td>\n",
       "      <td>85123A</td>\n",
       "      <td>WHITE HANGING HEART T-LIGHT HOLDER</td>\n",
       "      <td>6</td>\n",
       "      <td>2010-12-01 08:26:00</td>\n",
       "      <td>2.55</td>\n",
       "      <td>17850</td>\n",
       "      <td>United Kingdom</td>\n",
       "    </tr>\n",
       "    <tr>\n",
       "      <th>1</th>\n",
       "      <td>536365</td>\n",
       "      <td>71053</td>\n",
       "      <td>WHITE METAL LANTERN</td>\n",
       "      <td>6</td>\n",
       "      <td>2010-12-01 08:26:00</td>\n",
       "      <td>3.39</td>\n",
       "      <td>17850</td>\n",
       "      <td>United Kingdom</td>\n",
       "    </tr>\n",
       "    <tr>\n",
       "      <th>2</th>\n",
       "      <td>536365</td>\n",
       "      <td>84406B</td>\n",
       "      <td>CREAM CUPID HEARTS COAT HANGER</td>\n",
       "      <td>8</td>\n",
       "      <td>2010-12-01 08:26:00</td>\n",
       "      <td>2.75</td>\n",
       "      <td>17850</td>\n",
       "      <td>United Kingdom</td>\n",
       "    </tr>\n",
       "    <tr>\n",
       "      <th>3</th>\n",
       "      <td>536365</td>\n",
       "      <td>84029G</td>\n",
       "      <td>KNITTED UNION FLAG HOT WATER BOTTLE</td>\n",
       "      <td>6</td>\n",
       "      <td>2010-12-01 08:26:00</td>\n",
       "      <td>3.39</td>\n",
       "      <td>17850</td>\n",
       "      <td>United Kingdom</td>\n",
       "    </tr>\n",
       "    <tr>\n",
       "      <th>4</th>\n",
       "      <td>536365</td>\n",
       "      <td>84029E</td>\n",
       "      <td>RED WOOLLY HOTTIE WHITE HEART.</td>\n",
       "      <td>6</td>\n",
       "      <td>2010-12-01 08:26:00</td>\n",
       "      <td>3.39</td>\n",
       "      <td>17850</td>\n",
       "      <td>United Kingdom</td>\n",
       "    </tr>\n",
       "  </tbody>\n",
       "</table>\n",
       "</div>"
      ],
      "text/plain": [
       "  InvoiceNo StockCode                          Description  Quantity  \\\n",
       "0    536365    85123A   WHITE HANGING HEART T-LIGHT HOLDER         6   \n",
       "1    536365     71053                  WHITE METAL LANTERN         6   \n",
       "2    536365    84406B       CREAM CUPID HEARTS COAT HANGER         8   \n",
       "3    536365    84029G  KNITTED UNION FLAG HOT WATER BOTTLE         6   \n",
       "4    536365    84029E       RED WOOLLY HOTTIE WHITE HEART.         6   \n",
       "\n",
       "          InvoiceDate  UnitPrice CustomerID         Country  \n",
       "0 2010-12-01 08:26:00       2.55      17850  United Kingdom  \n",
       "1 2010-12-01 08:26:00       3.39      17850  United Kingdom  \n",
       "2 2010-12-01 08:26:00       2.75      17850  United Kingdom  \n",
       "3 2010-12-01 08:26:00       3.39      17850  United Kingdom  \n",
       "4 2010-12-01 08:26:00       3.39      17850  United Kingdom  "
      ]
     },
     "metadata": {},
     "output_type": "display_data"
    }
   ],
   "source": [
    "# show first lines\n",
    "display(df_initial[:5])"
   ]
  },
  {
   "cell_type": "markdown",
   "metadata": {},
   "source": [
    "## **  Exploratory Data Analysis **"
   ]
  },
  {
   "cell_type": "markdown",
   "metadata": {},
   "source": [
    "### Identify null values"
   ]
  },
  {
   "cell_type": "code",
   "execution_count": 4,
   "metadata": {
    "ExecuteTime": {
     "end_time": "2021-04-28T19:28:29.081744Z",
     "start_time": "2021-04-28T19:28:28.643436Z"
    }
   },
   "outputs": [
    {
     "name": "stdout",
     "output_type": "stream",
     "text": [
      "---------- Display information about column types and number of null values ----------\n"
     ]
    },
    {
     "data": {
      "text/html": [
       "<div>\n",
       "<style scoped>\n",
       "    .dataframe tbody tr th:only-of-type {\n",
       "        vertical-align: middle;\n",
       "    }\n",
       "\n",
       "    .dataframe tbody tr th {\n",
       "        vertical-align: top;\n",
       "    }\n",
       "\n",
       "    .dataframe thead th {\n",
       "        text-align: right;\n",
       "    }\n",
       "</style>\n",
       "<table border=\"1\" class=\"dataframe\">\n",
       "  <thead>\n",
       "    <tr style=\"text-align: right;\">\n",
       "      <th></th>\n",
       "      <th>InvoiceNo</th>\n",
       "      <th>StockCode</th>\n",
       "      <th>Description</th>\n",
       "      <th>Quantity</th>\n",
       "      <th>InvoiceDate</th>\n",
       "      <th>UnitPrice</th>\n",
       "      <th>CustomerID</th>\n",
       "      <th>Country</th>\n",
       "    </tr>\n",
       "  </thead>\n",
       "  <tbody>\n",
       "    <tr>\n",
       "      <th>column type</th>\n",
       "      <td>object</td>\n",
       "      <td>object</td>\n",
       "      <td>object</td>\n",
       "      <td>int64</td>\n",
       "      <td>datetime64[ns]</td>\n",
       "      <td>float64</td>\n",
       "      <td>object</td>\n",
       "      <td>object</td>\n",
       "    </tr>\n",
       "    <tr>\n",
       "      <th>null values (nb)</th>\n",
       "      <td>0</td>\n",
       "      <td>0</td>\n",
       "      <td>1454</td>\n",
       "      <td>0</td>\n",
       "      <td>0</td>\n",
       "      <td>0</td>\n",
       "      <td>135080</td>\n",
       "      <td>0</td>\n",
       "    </tr>\n",
       "    <tr>\n",
       "      <th>null values (%)</th>\n",
       "      <td>0</td>\n",
       "      <td>0</td>\n",
       "      <td>0.268311</td>\n",
       "      <td>0</td>\n",
       "      <td>0</td>\n",
       "      <td>0</td>\n",
       "      <td>24.9267</td>\n",
       "      <td>0</td>\n",
       "    </tr>\n",
       "  </tbody>\n",
       "</table>\n",
       "</div>"
      ],
      "text/plain": [
       "                 InvoiceNo StockCode Description Quantity     InvoiceDate  \\\n",
       "column type         object    object      object    int64  datetime64[ns]   \n",
       "null values (nb)         0         0        1454        0               0   \n",
       "null values (%)          0         0    0.268311        0               0   \n",
       "\n",
       "                 UnitPrice CustomerID Country  \n",
       "column type        float64     object  object  \n",
       "null values (nb)         0     135080       0  \n",
       "null values (%)          0    24.9267       0  "
      ]
     },
     "metadata": {},
     "output_type": "display_data"
    }
   ],
   "source": [
    "# gives some infomation on columns types and number of null values\n",
    "tab_info=pd.DataFrame(df_initial.dtypes).T.rename(index={0:'column type'})\n",
    "tab_info=tab_info.append(pd.DataFrame(df_initial.isnull().sum()).T.rename(index={0:'null values (nb)'}))\n",
    "tab_info=tab_info.append(pd.DataFrame(df_initial.isnull().sum()/df_initial.shape[0]*100).T.\n",
    "                         rename(index={0:'null values (%)'}))\n",
    "print ('-' * 10 + \" Display information about column types and number of null values \" + '-' * 10 )\n",
    "print \n",
    "display(tab_info)\n"
   ]
  },
  {
   "cell_type": "markdown",
   "metadata": {},
   "source": [
    "### Remove data entries \n",
    "Note: \n",
    " * If you are looking to the CustomerID column then there are $\\sim$25% data entries are   \n",
    "   null.\n",
    " * That means there are $\\sim$25% of data entries which aren't assigned to the any \n",
    "   customer(s).\n",
    " * It is impossible for us to map values for the customer and these entries. These is \n",
    "   usless for the current exercise.\n",
    " * Because of all the above points we are deleting these data entries.\n"
   ]
  },
  {
   "cell_type": "code",
   "execution_count": 5,
   "metadata": {
    "ExecuteTime": {
     "end_time": "2021-04-28T19:28:29.502886Z",
     "start_time": "2021-04-28T19:28:29.112295Z"
    },
    "_cell_guid": "f9de6b67-a588-43ab-8f51-b28efdee9e32",
    "_kg_hide-input": true,
    "_uuid": "9b915fa18b311e8f93ac862bd49d08d90e03ca48"
   },
   "outputs": [
    {
     "name": "stdout",
     "output_type": "stream",
     "text": [
      "Dataframe dimensions: (406829, 8)\n"
     ]
    },
    {
     "data": {
      "text/html": [
       "<div>\n",
       "<style scoped>\n",
       "    .dataframe tbody tr th:only-of-type {\n",
       "        vertical-align: middle;\n",
       "    }\n",
       "\n",
       "    .dataframe tbody tr th {\n",
       "        vertical-align: top;\n",
       "    }\n",
       "\n",
       "    .dataframe thead th {\n",
       "        text-align: right;\n",
       "    }\n",
       "</style>\n",
       "<table border=\"1\" class=\"dataframe\">\n",
       "  <thead>\n",
       "    <tr style=\"text-align: right;\">\n",
       "      <th></th>\n",
       "      <th>InvoiceNo</th>\n",
       "      <th>StockCode</th>\n",
       "      <th>Description</th>\n",
       "      <th>Quantity</th>\n",
       "      <th>InvoiceDate</th>\n",
       "      <th>UnitPrice</th>\n",
       "      <th>CustomerID</th>\n",
       "      <th>Country</th>\n",
       "    </tr>\n",
       "  </thead>\n",
       "  <tbody>\n",
       "    <tr>\n",
       "      <th>column type</th>\n",
       "      <td>object</td>\n",
       "      <td>object</td>\n",
       "      <td>object</td>\n",
       "      <td>int64</td>\n",
       "      <td>datetime64[ns]</td>\n",
       "      <td>float64</td>\n",
       "      <td>object</td>\n",
       "      <td>object</td>\n",
       "    </tr>\n",
       "    <tr>\n",
       "      <th>null values (nb)</th>\n",
       "      <td>0</td>\n",
       "      <td>0</td>\n",
       "      <td>0</td>\n",
       "      <td>0</td>\n",
       "      <td>0</td>\n",
       "      <td>0</td>\n",
       "      <td>0</td>\n",
       "      <td>0</td>\n",
       "    </tr>\n",
       "    <tr>\n",
       "      <th>null values (%)</th>\n",
       "      <td>0</td>\n",
       "      <td>0</td>\n",
       "      <td>0</td>\n",
       "      <td>0</td>\n",
       "      <td>0</td>\n",
       "      <td>0</td>\n",
       "      <td>0</td>\n",
       "      <td>0</td>\n",
       "    </tr>\n",
       "  </tbody>\n",
       "</table>\n",
       "</div>"
      ],
      "text/plain": [
       "                 InvoiceNo StockCode Description Quantity     InvoiceDate  \\\n",
       "column type         object    object      object    int64  datetime64[ns]   \n",
       "null values (nb)         0         0           0        0               0   \n",
       "null values (%)          0         0           0        0               0   \n",
       "\n",
       "                 UnitPrice CustomerID Country  \n",
       "column type        float64     object  object  \n",
       "null values (nb)         0          0       0  \n",
       "null values (%)          0          0       0  "
      ]
     },
     "metadata": {},
     "output_type": "display_data"
    }
   ],
   "source": [
    "df_initial.dropna(axis = 0, subset = ['CustomerID'], inplace = True)\n",
    "print('Dataframe dimensions:', df_initial.shape)\n",
    "# gives some information on columns types and number of null values\n",
    "tab_info=pd.DataFrame(df_initial.dtypes).T.rename(index={0:'column type'})\n",
    "tab_info=tab_info.append(pd.DataFrame(df_initial.isnull().sum()).T.rename(index={0:'null values (nb)'}))\n",
    "tab_info=tab_info.append(pd.DataFrame(df_initial.isnull().sum()/df_initial.shape[0]*100).T.\n",
    "                         rename(index={0:'null values (%)'}))\n",
    "display(tab_info)"
   ]
  },
  {
   "cell_type": "code",
   "execution_count": 6,
   "metadata": {
    "ExecuteTime": {
     "end_time": "2021-04-28T19:28:30.321268Z",
     "start_time": "2021-04-28T19:28:29.534225Z"
    },
    "_cell_guid": "baf1ff2e-646b-468b-b7b4-68343f388387",
    "_uuid": "6b988d1dee3deecafd54f2b3555d1f84b509d213"
   },
   "outputs": [
    {
     "name": "stdout",
     "output_type": "stream",
     "text": [
      "Duplicate data entries: 5225\n"
     ]
    }
   ],
   "source": [
    "print('Duplicate data entries: {}'.format(df_initial.duplicated().sum()))\n",
    "df_initial.drop_duplicates(inplace = True)"
   ]
  },
  {
   "cell_type": "markdown",
   "metadata": {},
   "source": [
    "### Exploring data attributes\n",
    "---"
   ]
  },
  {
   "cell_type": "markdown",
   "metadata": {},
   "source": [
    "#### ** Exploring the data attribute : Country **"
   ]
  },
  {
   "cell_type": "code",
   "execution_count": 7,
   "metadata": {
    "ExecuteTime": {
     "end_time": "2021-04-28T19:28:30.662539Z",
     "start_time": "2021-04-28T19:28:30.326720Z"
    },
    "_cell_guid": "44abc17d-8858-457a-94e1-f012143fda87",
    "_kg_hide-input": true,
    "_uuid": "c4141f12a8b2c733539a75d398cadf0817ca0969"
   },
   "outputs": [
    {
     "name": "stdout",
     "output_type": "stream",
     "text": [
      "No. of cuntries in dataframe: 37\n"
     ]
    }
   ],
   "source": [
    "temp = df_initial[['CustomerID', 'InvoiceNo', 'Country']].groupby(\n",
    "    ['CustomerID', 'InvoiceNo', 'Country']).count()\n",
    "temp = temp.reset_index(drop = False)\n",
    "countries = temp['Country'].value_counts()\n",
    "print('No. of cuntries in dataframe: {}'.format(len(countries)))\n"
   ]
  },
  {
   "cell_type": "code",
   "execution_count": 8,
   "metadata": {
    "ExecuteTime": {
     "end_time": "2021-04-28T19:28:30.781750Z",
     "start_time": "2021-04-28T19:28:30.673917Z"
    }
   },
   "outputs": [
    {
     "name": "stdout",
     "output_type": "stream",
     "text": [
      "---------- Contry-wise order calculation ----------\n",
      "                 Country  Country wise number of order\n",
      "35        United Kingdom                        356728\n",
      "14               Germany                          9480\n",
      "13                France                          8475\n",
      "10                  EIRE                          7475\n",
      "30                 Spain                          2528\n",
      "23           Netherlands                          2371\n",
      "3                Belgium                          2069\n",
      "32           Switzerland                          1877\n",
      "26              Portugal                          1471\n",
      "0              Australia                          1258\n",
      "24                Norway                          1086\n",
      "18                 Italy                           803\n",
      "6        Channel Islands                           757\n",
      "12               Finland                           695\n",
      "7                 Cyprus                           611\n",
      "31                Sweden                           461\n",
      "1                Austria                           401\n",
      "9                Denmark                           389\n",
      "19                 Japan                           358\n",
      "25                Poland                           341\n",
      "33                   USA                           291\n",
      "17                Israel                           247\n",
      "36           Unspecified                           241\n",
      "29             Singapore                           229\n",
      "16               Iceland                           182\n",
      "5                 Canada                           151\n",
      "15                Greece                           146\n",
      "22                 Malta                           127\n",
      "34  United Arab Emirates                            68\n",
      "11    European Community                            61\n",
      "27                   RSA                            58\n",
      "20               Lebanon                            45\n",
      "21             Lithuania                            35\n",
      "4                 Brazil                            32\n",
      "8         Czech Republic                            30\n",
      "2                Bahrain                            17\n",
      "28          Saudi Arabia                            10\n"
     ]
    }
   ],
   "source": [
    "temp_no_of_order_per_count = df_initial[['CustomerID','Country']].groupby(['Country']).count()\n",
    "temp_no_of_order_per_count = temp_no_of_order_per_count.reset_index(drop = False)\n",
    "\n",
    "print('-' * 10 + \" Contry-wise order calculation \"+ '-' * 10)\n",
    "print\n",
    "print (temp_no_of_order_per_count.sort_values(\n",
    "    by='CustomerID', ascending=False).rename(index=str,\n",
    "                                        columns={\"CustomerID\": \"Country wise number of order\"}))"
   ]
  },
  {
   "cell_type": "markdown",
   "metadata": {},
   "source": [
    "#### ** Exploring the data attribute : Customers and products **"
   ]
  },
  {
   "cell_type": "markdown",
   "metadata": {},
   "source": [
    "The dataframe contains $\\sim$400,000 entries. What are the number of users and products in these entries ?"
   ]
  },
  {
   "cell_type": "code",
   "execution_count": 9,
   "metadata": {
    "ExecuteTime": {
     "end_time": "2021-04-28T19:28:31.024724Z",
     "start_time": "2021-04-28T19:28:30.790043Z"
    },
    "_cell_guid": "677f103d-d199-480c-bca4-fc08f7aa2e92",
    "_kg_hide-input": true,
    "_uuid": "dc2f4b48b76615721e6718efbd31fcd3faf16bec"
   },
   "outputs": [
    {
     "data": {
      "text/html": [
       "<div>\n",
       "<style scoped>\n",
       "    .dataframe tbody tr th:only-of-type {\n",
       "        vertical-align: middle;\n",
       "    }\n",
       "\n",
       "    .dataframe tbody tr th {\n",
       "        vertical-align: top;\n",
       "    }\n",
       "\n",
       "    .dataframe thead th {\n",
       "        text-align: right;\n",
       "    }\n",
       "</style>\n",
       "<table border=\"1\" class=\"dataframe\">\n",
       "  <thead>\n",
       "    <tr style=\"text-align: right;\">\n",
       "      <th></th>\n",
       "      <th>products</th>\n",
       "      <th>transactions</th>\n",
       "      <th>customers</th>\n",
       "    </tr>\n",
       "  </thead>\n",
       "  <tbody>\n",
       "    <tr>\n",
       "      <th>quantity</th>\n",
       "      <td>3684</td>\n",
       "      <td>22190</td>\n",
       "      <td>4372</td>\n",
       "    </tr>\n",
       "  </tbody>\n",
       "</table>\n",
       "</div>"
      ],
      "text/plain": [
       "          products  transactions  customers\n",
       "quantity      3684         22190       4372"
      ]
     },
     "execution_count": 9,
     "metadata": {},
     "output_type": "execute_result"
    }
   ],
   "source": [
    "pd.DataFrame([{'products': len(df_initial['StockCode'].value_counts()),    \n",
    "               'transactions': len(df_initial['InvoiceNo'].value_counts()),\n",
    "               'customers': len(df_initial['CustomerID'].value_counts()),  \n",
    "              }], columns = ['products', 'transactions', 'customers'], \n",
    "              index = ['quantity'])"
   ]
  },
  {
   "cell_type": "markdown",
   "metadata": {},
   "source": [
    "As you can see that this dataset contain the recods of 4372 users who bought 3684 different items.\n",
    "There are $\\sim$22,000 transactions which are carried out."
   ]
  },
  {
   "cell_type": "markdown",
   "metadata": {},
   "source": [
    "Now we need to explore the number of products purchased in every transaction"
   ]
  },
  {
   "cell_type": "code",
   "execution_count": 10,
   "metadata": {
    "ExecuteTime": {
     "end_time": "2021-04-28T19:28:31.205925Z",
     "start_time": "2021-04-28T19:28:31.027842Z"
    },
    "_cell_guid": "72d6dede-4280-4afd-b61b-085ea8c73d67",
    "_kg_hide-input": true,
    "_uuid": "dd0d84bd4275a04e361b5b41924d11b7f6f2e9ff"
   },
   "outputs": [
    {
     "data": {
      "text/html": [
       "<div>\n",
       "<style scoped>\n",
       "    .dataframe tbody tr th:only-of-type {\n",
       "        vertical-align: middle;\n",
       "    }\n",
       "\n",
       "    .dataframe tbody tr th {\n",
       "        vertical-align: top;\n",
       "    }\n",
       "\n",
       "    .dataframe thead th {\n",
       "        text-align: right;\n",
       "    }\n",
       "</style>\n",
       "<table border=\"1\" class=\"dataframe\">\n",
       "  <thead>\n",
       "    <tr style=\"text-align: right;\">\n",
       "      <th></th>\n",
       "      <th>CustomerID</th>\n",
       "      <th>InvoiceNo</th>\n",
       "      <th>Number of products</th>\n",
       "    </tr>\n",
       "  </thead>\n",
       "  <tbody>\n",
       "    <tr>\n",
       "      <th>0</th>\n",
       "      <td>12346</td>\n",
       "      <td>541431</td>\n",
       "      <td>1</td>\n",
       "    </tr>\n",
       "    <tr>\n",
       "      <th>1</th>\n",
       "      <td>12346</td>\n",
       "      <td>C541433</td>\n",
       "      <td>1</td>\n",
       "    </tr>\n",
       "    <tr>\n",
       "      <th>2</th>\n",
       "      <td>12347</td>\n",
       "      <td>537626</td>\n",
       "      <td>31</td>\n",
       "    </tr>\n",
       "    <tr>\n",
       "      <th>3</th>\n",
       "      <td>12347</td>\n",
       "      <td>542237</td>\n",
       "      <td>29</td>\n",
       "    </tr>\n",
       "    <tr>\n",
       "      <th>4</th>\n",
       "      <td>12347</td>\n",
       "      <td>549222</td>\n",
       "      <td>24</td>\n",
       "    </tr>\n",
       "    <tr>\n",
       "      <th>5</th>\n",
       "      <td>12347</td>\n",
       "      <td>556201</td>\n",
       "      <td>18</td>\n",
       "    </tr>\n",
       "    <tr>\n",
       "      <th>6</th>\n",
       "      <td>12347</td>\n",
       "      <td>562032</td>\n",
       "      <td>22</td>\n",
       "    </tr>\n",
       "    <tr>\n",
       "      <th>7</th>\n",
       "      <td>12347</td>\n",
       "      <td>573511</td>\n",
       "      <td>47</td>\n",
       "    </tr>\n",
       "    <tr>\n",
       "      <th>8</th>\n",
       "      <td>12347</td>\n",
       "      <td>581180</td>\n",
       "      <td>11</td>\n",
       "    </tr>\n",
       "    <tr>\n",
       "      <th>9</th>\n",
       "      <td>12348</td>\n",
       "      <td>539318</td>\n",
       "      <td>17</td>\n",
       "    </tr>\n",
       "  </tbody>\n",
       "</table>\n",
       "</div>"
      ],
      "text/plain": [
       "  CustomerID InvoiceNo  Number of products\n",
       "0      12346    541431                   1\n",
       "1      12346   C541433                   1\n",
       "2      12347    537626                  31\n",
       "3      12347    542237                  29\n",
       "4      12347    549222                  24\n",
       "5      12347    556201                  18\n",
       "6      12347    562032                  22\n",
       "7      12347    573511                  47\n",
       "8      12347    581180                  11\n",
       "9      12348    539318                  17"
      ]
     },
     "execution_count": 10,
     "metadata": {},
     "output_type": "execute_result"
    }
   ],
   "source": [
    "temp = df_initial.groupby(by=['CustomerID', 'InvoiceNo'], as_index=False)['InvoiceDate'].count()\n",
    "nb_products_per_basket = temp.rename(columns = {'InvoiceDate':'Number of products'})\n",
    "nb_products_per_basket[:10].sort_values('CustomerID')"
   ]
  },
  {
   "cell_type": "markdown",
   "metadata": {},
   "source": [
    "Points to be noted here: \n",
    "\n",
    "* There are some users who bought only comes one time on the E-commerce platform and purchased one   \n",
    "  item. The example of this kind of user is customerID 12346.  \n",
    "\n",
    "* There are some users who frequently buy large number of items per order. The example of this kind of \n",
    "  user is customerID 12347.  \n",
    "\n",
    "* If you notice Invoiceno data attribute then you can find out that there is prefix 'C' for one \n",
    "  invoice. This 'C' indicates that the particular transaction has been cancelled."
   ]
  },
  {
   "cell_type": "markdown",
   "metadata": {},
   "source": [
    "#### ** Analysis of cancelled orders **"
   ]
  },
  {
   "cell_type": "markdown",
   "metadata": {},
   "source": [
    "We need to count the number of transactions corresponding to cancelled orders"
   ]
  },
  {
   "cell_type": "code",
   "execution_count": 11,
   "metadata": {
    "ExecuteTime": {
     "end_time": "2021-04-28T19:28:31.360833Z",
     "start_time": "2021-04-28T19:28:31.241915Z"
    },
    "_cell_guid": "9b0e32d8-fc9c-4301-ac18-9c1d7cc5b54f",
    "_kg_hide-input": true,
    "_uuid": "076fba25ed8a2b38fddd83ff862fa21e7f790a11"
   },
   "outputs": [
    {
     "data": {
      "text/html": [
       "<div>\n",
       "<style scoped>\n",
       "    .dataframe tbody tr th:only-of-type {\n",
       "        vertical-align: middle;\n",
       "    }\n",
       "\n",
       "    .dataframe tbody tr th {\n",
       "        vertical-align: top;\n",
       "    }\n",
       "\n",
       "    .dataframe thead th {\n",
       "        text-align: right;\n",
       "    }\n",
       "</style>\n",
       "<table border=\"1\" class=\"dataframe\">\n",
       "  <thead>\n",
       "    <tr style=\"text-align: right;\">\n",
       "      <th></th>\n",
       "      <th>CustomerID</th>\n",
       "      <th>InvoiceNo</th>\n",
       "      <th>Number of products</th>\n",
       "      <th>order_cancelled</th>\n",
       "    </tr>\n",
       "  </thead>\n",
       "  <tbody>\n",
       "    <tr>\n",
       "      <th>0</th>\n",
       "      <td>12346</td>\n",
       "      <td>541431</td>\n",
       "      <td>1</td>\n",
       "      <td>0</td>\n",
       "    </tr>\n",
       "    <tr>\n",
       "      <th>1</th>\n",
       "      <td>12346</td>\n",
       "      <td>C541433</td>\n",
       "      <td>1</td>\n",
       "      <td>1</td>\n",
       "    </tr>\n",
       "    <tr>\n",
       "      <th>2</th>\n",
       "      <td>12347</td>\n",
       "      <td>537626</td>\n",
       "      <td>31</td>\n",
       "      <td>0</td>\n",
       "    </tr>\n",
       "    <tr>\n",
       "      <th>3</th>\n",
       "      <td>12347</td>\n",
       "      <td>542237</td>\n",
       "      <td>29</td>\n",
       "      <td>0</td>\n",
       "    </tr>\n",
       "    <tr>\n",
       "      <th>4</th>\n",
       "      <td>12347</td>\n",
       "      <td>549222</td>\n",
       "      <td>24</td>\n",
       "      <td>0</td>\n",
       "    </tr>\n",
       "  </tbody>\n",
       "</table>\n",
       "</div>"
      ],
      "text/plain": [
       "  CustomerID InvoiceNo  Number of products  order_cancelled\n",
       "0      12346    541431                   1                0\n",
       "1      12346   C541433                   1                1\n",
       "2      12347    537626                  31                0\n",
       "3      12347    542237                  29                0\n",
       "4      12347    549222                  24                0"
      ]
     },
     "metadata": {},
     "output_type": "display_data"
    },
    {
     "name": "stdout",
     "output_type": "stream",
     "text": [
      "Number of orders cancelled: 3654/22190 (16.47%) \n"
     ]
    }
   ],
   "source": [
    "nb_products_per_basket['order_cancelled'] = nb_products_per_basket['InvoiceNo'].apply(\n",
    "    lambda x:int('C' in x))\n",
    "display(nb_products_per_basket[:5])\n",
    "\n",
    "\n",
    "n1 = nb_products_per_basket['order_cancelled'].sum()\n",
    "n2 = nb_products_per_basket.shape[0]\n",
    "percentage = (n1/n2)*100\n",
    "print('Number of orders cancelled: {}/{} ({:.2f}%) '.format(n1, n2, percentage))"
   ]
  },
  {
   "cell_type": "markdown",
   "metadata": {},
   "source": [
    "Note that the number of cancelled transactions are quite large ( $\\sim$16% of the total number of transactions). "
   ]
  },
  {
   "cell_type": "markdown",
   "metadata": {},
   "source": [
    "Now, let's look at the first few lines of the dataframe"
   ]
  },
  {
   "cell_type": "code",
   "execution_count": 12,
   "metadata": {
    "ExecuteTime": {
     "end_time": "2021-04-28T19:28:32.088947Z",
     "start_time": "2021-04-28T19:28:31.366814Z"
    },
    "_cell_guid": "2f985d42-e0b9-4281-8f30-43c2c13955b9",
    "_kg_hide-input": true,
    "_uuid": "54f5b8a4bc832c1c396419223f43c41b9b0b27de",
    "scrolled": true
   },
   "outputs": [
    {
     "data": {
      "text/html": [
       "<div>\n",
       "<style scoped>\n",
       "    .dataframe tbody tr th:only-of-type {\n",
       "        vertical-align: middle;\n",
       "    }\n",
       "\n",
       "    .dataframe tbody tr th {\n",
       "        vertical-align: top;\n",
       "    }\n",
       "\n",
       "    .dataframe thead th {\n",
       "        text-align: right;\n",
       "    }\n",
       "</style>\n",
       "<table border=\"1\" class=\"dataframe\">\n",
       "  <thead>\n",
       "    <tr style=\"text-align: right;\">\n",
       "      <th></th>\n",
       "      <th>InvoiceNo</th>\n",
       "      <th>StockCode</th>\n",
       "      <th>Description</th>\n",
       "      <th>Quantity</th>\n",
       "      <th>InvoiceDate</th>\n",
       "      <th>UnitPrice</th>\n",
       "      <th>CustomerID</th>\n",
       "      <th>Country</th>\n",
       "    </tr>\n",
       "  </thead>\n",
       "  <tbody>\n",
       "    <tr>\n",
       "      <th>61619</th>\n",
       "      <td>541431</td>\n",
       "      <td>23166</td>\n",
       "      <td>MEDIUM CERAMIC TOP STORAGE JAR</td>\n",
       "      <td>74215</td>\n",
       "      <td>2011-01-18 10:01:00</td>\n",
       "      <td>1.04</td>\n",
       "      <td>12346</td>\n",
       "      <td>United Kingdom</td>\n",
       "    </tr>\n",
       "    <tr>\n",
       "      <th>61624</th>\n",
       "      <td>C541433</td>\n",
       "      <td>23166</td>\n",
       "      <td>MEDIUM CERAMIC TOP STORAGE JAR</td>\n",
       "      <td>-74215</td>\n",
       "      <td>2011-01-18 10:17:00</td>\n",
       "      <td>1.04</td>\n",
       "      <td>12346</td>\n",
       "      <td>United Kingdom</td>\n",
       "    </tr>\n",
       "    <tr>\n",
       "      <th>286623</th>\n",
       "      <td>562032</td>\n",
       "      <td>22375</td>\n",
       "      <td>AIRLINE BAG VINTAGE JET SET BROWN</td>\n",
       "      <td>4</td>\n",
       "      <td>2011-08-02 08:48:00</td>\n",
       "      <td>4.25</td>\n",
       "      <td>12347</td>\n",
       "      <td>Iceland</td>\n",
       "    </tr>\n",
       "    <tr>\n",
       "      <th>72260</th>\n",
       "      <td>542237</td>\n",
       "      <td>84991</td>\n",
       "      <td>60 TEATIME FAIRY CAKE CASES</td>\n",
       "      <td>24</td>\n",
       "      <td>2011-01-26 14:30:00</td>\n",
       "      <td>0.55</td>\n",
       "      <td>12347</td>\n",
       "      <td>Iceland</td>\n",
       "    </tr>\n",
       "    <tr>\n",
       "      <th>14943</th>\n",
       "      <td>537626</td>\n",
       "      <td>22772</td>\n",
       "      <td>PINK DRAWER KNOB ACRYLIC EDWARDIAN</td>\n",
       "      <td>12</td>\n",
       "      <td>2010-12-07 14:57:00</td>\n",
       "      <td>1.25</td>\n",
       "      <td>12347</td>\n",
       "      <td>Iceland</td>\n",
       "    </tr>\n",
       "  </tbody>\n",
       "</table>\n",
       "</div>"
      ],
      "text/plain": [
       "       InvoiceNo StockCode                         Description  Quantity  \\\n",
       "61619     541431     23166      MEDIUM CERAMIC TOP STORAGE JAR     74215   \n",
       "61624    C541433     23166      MEDIUM CERAMIC TOP STORAGE JAR    -74215   \n",
       "286623    562032     22375   AIRLINE BAG VINTAGE JET SET BROWN         4   \n",
       "72260     542237     84991         60 TEATIME FAIRY CAKE CASES        24   \n",
       "14943     537626     22772  PINK DRAWER KNOB ACRYLIC EDWARDIAN        12   \n",
       "\n",
       "               InvoiceDate  UnitPrice CustomerID         Country  \n",
       "61619  2011-01-18 10:01:00       1.04      12346  United Kingdom  \n",
       "61624  2011-01-18 10:17:00       1.04      12346  United Kingdom  \n",
       "286623 2011-08-02 08:48:00       4.25      12347         Iceland  \n",
       "72260  2011-01-26 14:30:00       0.55      12347         Iceland  \n",
       "14943  2010-12-07 14:57:00       1.25      12347         Iceland  "
      ]
     },
     "metadata": {},
     "output_type": "display_data"
    }
   ],
   "source": [
    "display(df_initial.sort_values('CustomerID')[:5])"
   ]
  },
  {
   "cell_type": "markdown",
   "metadata": {},
   "source": [
    "From the above output, we see that when an order is canceled, we have another transactions in the dataframe, mostly identical except for the **Quantity** and **InvoiceDate** variables. I decide to check if this is true for all the entries.\n",
    "To do this, I decide to locate the entries that indicate a negative quantity and check if there is *systematically* an order indicating the same quantity (but positive), with the same description (**CustomerID**, **Description** and **UnitPrice**):"
   ]
  },
  {
   "cell_type": "code",
   "execution_count": 13,
   "metadata": {
    "ExecuteTime": {
     "end_time": "2021-04-28T19:28:32.191398Z",
     "start_time": "2021-04-28T19:28:32.093230Z"
    },
    "_cell_guid": "06e26580-014e-432d-ab59-b5ceebb816cb",
    "_kg_hide-input": false,
    "_uuid": "b16ddfdd36696a4a92ba15acd387e7eca0757f31",
    "scrolled": true
   },
   "outputs": [
    {
     "name": "stdout",
     "output_type": "stream",
     "text": [
      "CustomerID        14527\n",
      "Quantity             -1\n",
      "StockCode             D\n",
      "Description    Discount\n",
      "UnitPrice          27.5\n",
      "Name: 141, dtype: object\n",
      "---------------> HYPOTHESIS NOT FULFILLED\n"
     ]
    }
   ],
   "source": [
    "df_check = df_initial[df_initial['Quantity'] < 0][['CustomerID','Quantity',\n",
    "                                                   'StockCode','Description','UnitPrice']]\n",
    "for index, col in  df_check.iterrows():\n",
    "    if df_initial[(df_initial['CustomerID'] == col[0]) & (df_initial['Quantity'] == -col[1]) \n",
    "                & (df_initial['Description'] == col[2])].shape[0] == 0: \n",
    "        print(df_check.loc[index])\n",
    "        print(15*'-'+'>'+' HYPOTHESIS NOT FULFILLED')\n",
    "        break"
   ]
  },
  {
   "cell_type": "markdown",
   "metadata": {},
   "source": [
    "We see that the initial hypothesis is not fulfilled because of the existence of a  '_Discount_' entry. I check again the hypothesis but this time discarding the '_Discount_' entries:"
   ]
  },
  {
   "cell_type": "code",
   "execution_count": 14,
   "metadata": {
    "ExecuteTime": {
     "end_time": "2021-04-28T19:28:32.379035Z",
     "start_time": "2021-04-28T19:28:32.195277Z"
    },
    "_cell_guid": "50c6589e-4387-4a3e-a1ea-18bee5bb1dba",
    "_kg_hide-input": true,
    "_uuid": "3b375d17a84505d71b20dbbc43124aa6597a2ef2"
   },
   "outputs": [
    {
     "name": "stdout",
     "output_type": "stream",
     "text": [
      "154 CustomerID                               15311\n",
      "Quantity                                    -1\n",
      "StockCode                               35004C\n",
      "Description    SET OF 3 COLOURED  FLYING DUCKS\n",
      "UnitPrice                                 4.65\n",
      "Name: 154, dtype: object\n",
      "---------------> HYPOTHESIS NOT FULFILLED\n"
     ]
    }
   ],
   "source": [
    "df_check = df_initial[(df_initial['Quantity'] < 0) & (df_initial['Description'] != 'Discount')][\n",
    "                                 ['CustomerID','Quantity','StockCode',\n",
    "                                  'Description','UnitPrice']]\n",
    "\n",
    "for index, col in  df_check.iterrows():\n",
    "    if df_initial[(df_initial['CustomerID'] == col[0]) & (df_initial['Quantity'] == -col[1]) \n",
    "                & (df_initial['Description'] == col[2])].shape[0] == 0: \n",
    "        print(index, df_check.loc[index])\n",
    "        print(15*'-'+'>'+' HYPOTHESIS NOT FULFILLED')\n",
    "        break"
   ]
  },
  {
   "cell_type": "markdown",
   "metadata": {},
   "source": [
    "Once more, we find that the initial hypothesis is not verified. Hence, cancellations do not necessarily correspond to orders that would have been made beforehand.\n",
    "\n",
    "At this point, I decide to create a new variable in the dataframe that indicate if part of the command has been canceled. For the cancellations without counterparts, a few of them are probably due to the fact that the buy orders were  performed before December 2010 (the point of entry of the database). Below, I make a census of the cancel orders and check for the existence of counterparts:"
   ]
  },
  {
   "cell_type": "code",
   "execution_count": 15,
   "metadata": {
    "ExecuteTime": {
     "end_time": "2021-04-28T19:38:17.216733Z",
     "start_time": "2021-04-28T19:28:32.382432Z"
    },
    "_cell_guid": "af540729-739b-45b3-858f-f1facf9f8ae6",
    "_kg_hide-input": true,
    "_uuid": "6f5c10794e09eb3d0dc83889d74b2029d6d24756"
   },
   "outputs": [],
   "source": [
    "df_cleaned = df_initial.copy(deep = True)\n",
    "df_cleaned['QuantityCanceled'] = 0\n",
    "\n",
    "entry_to_remove = [] ; doubtfull_entry = []\n",
    "\n",
    "for index, col in  df_initial.iterrows():\n",
    "    if (col['Quantity'] > 0) or col['Description'] == 'Discount': continue        \n",
    "    df_test = df_initial[(df_initial['CustomerID'] == col['CustomerID']) &\n",
    "                         (df_initial['StockCode']  == col['StockCode']) & \n",
    "                         (df_initial['InvoiceDate'] < col['InvoiceDate']) & \n",
    "                         (df_initial['Quantity']   > 0)].copy()\n",
    "\n",
    "    # Cancelation WITHOUT counterpart\n",
    "    if (df_test.shape[0] == 0): \n",
    "        doubtfull_entry.append(index)\n",
    "   \n",
    "    # Cancelation WITH a counterpart\n",
    "    elif (df_test.shape[0] == 1): \n",
    "        index_order = df_test.index[0]\n",
    "        df_cleaned.loc[index_order, 'QuantityCanceled'] = -col['Quantity']\n",
    "        entry_to_remove.append(index)        \n",
    "   \n",
    "    # Various counterparts exist in orders: we delete the last one\n",
    "    elif (df_test.shape[0] > 1): \n",
    "        df_test.sort_index(axis=0 ,ascending=False, inplace = True)        \n",
    "        for ind, val in df_test.iterrows():\n",
    "            if val['Quantity'] < -col['Quantity']: continue\n",
    "            df_cleaned.loc[ind, 'QuantityCanceled'] = -col['Quantity']\n",
    "            entry_to_remove.append(index) \n",
    "            break            "
   ]
  },
  {
   "cell_type": "markdown",
   "metadata": {},
   "source": [
    "In the above function, I checked the two cases:\n",
    "1. a cancel order exists without counterpart\n",
    "2. there's at least one counterpart with the exact same quantity\n",
    "\n",
    "The index of the corresponding cancel order are respectively kept in the `doubtfull_entry` and `entry_to_remove` lists whose sizes are:"
   ]
  },
  {
   "cell_type": "code",
   "execution_count": 16,
   "metadata": {
    "ExecuteTime": {
     "end_time": "2021-04-28T19:38:17.221678Z",
     "start_time": "2021-04-28T19:38:17.218803Z"
    },
    "_cell_guid": "f1d3a68d-fa59-4671-8be1-cdbb646ce13f",
    "_kg_hide-input": true,
    "_uuid": "d98a0917de35db7afe31c69c324cd32e934edd52",
    "scrolled": true
   },
   "outputs": [
    {
     "name": "stdout",
     "output_type": "stream",
     "text": [
      "entry_to_remove: 7521\n",
      "doubtfull_entry: 1226\n"
     ]
    }
   ],
   "source": [
    "print(\"entry_to_remove: {}\".format(len(entry_to_remove)))\n",
    "print(\"doubtfull_entry: {}\".format(len(doubtfull_entry)))"
   ]
  },
  {
   "cell_type": "markdown",
   "metadata": {},
   "source": [
    "Among these entries, the lines listed in the doubtfull_entry list correspond to the entries indicating a cancellation but for which there is no command beforehand. In practice, I decide to delete all of these entries, which count respectively for $\\sim$ 1.4% and 0.2% of the dataframe entries.\n",
    "\n",
    "Now I check the number of entries that correspond to cancellations and that have not been deleted with the previous filter:"
   ]
  },
  {
   "cell_type": "code",
   "execution_count": 17,
   "metadata": {
    "ExecuteTime": {
     "end_time": "2021-04-28T19:38:17.347182Z",
     "start_time": "2021-04-28T19:38:17.224425Z"
    },
    "_cell_guid": "50f6c074-08cc-4c55-8285-d674d0d84b45",
    "_kg_hide-input": true,
    "_uuid": "c523275748742927f689725305e90ae6fdeb4136"
   },
   "outputs": [
    {
     "name": "stdout",
     "output_type": "stream",
     "text": [
      "nb of entries to delete: 48\n"
     ]
    },
    {
     "data": {
      "text/html": [
       "<div>\n",
       "<style scoped>\n",
       "    .dataframe tbody tr th:only-of-type {\n",
       "        vertical-align: middle;\n",
       "    }\n",
       "\n",
       "    .dataframe tbody tr th {\n",
       "        vertical-align: top;\n",
       "    }\n",
       "\n",
       "    .dataframe thead th {\n",
       "        text-align: right;\n",
       "    }\n",
       "</style>\n",
       "<table border=\"1\" class=\"dataframe\">\n",
       "  <thead>\n",
       "    <tr style=\"text-align: right;\">\n",
       "      <th></th>\n",
       "      <th>InvoiceNo</th>\n",
       "      <th>StockCode</th>\n",
       "      <th>Description</th>\n",
       "      <th>Quantity</th>\n",
       "      <th>InvoiceDate</th>\n",
       "      <th>UnitPrice</th>\n",
       "      <th>CustomerID</th>\n",
       "      <th>Country</th>\n",
       "      <th>QuantityCanceled</th>\n",
       "    </tr>\n",
       "  </thead>\n",
       "  <tbody>\n",
       "    <tr>\n",
       "      <th>77598</th>\n",
       "      <td>C542742</td>\n",
       "      <td>84535B</td>\n",
       "      <td>FAIRY CAKES NOTEBOOK A6 SIZE</td>\n",
       "      <td>-94</td>\n",
       "      <td>2011-01-31 16:26:00</td>\n",
       "      <td>0.65</td>\n",
       "      <td>15358</td>\n",
       "      <td>United Kingdom</td>\n",
       "      <td>0</td>\n",
       "    </tr>\n",
       "    <tr>\n",
       "      <th>90444</th>\n",
       "      <td>C544038</td>\n",
       "      <td>22784</td>\n",
       "      <td>LANTERN CREAM GAZEBO</td>\n",
       "      <td>-4</td>\n",
       "      <td>2011-02-15 11:32:00</td>\n",
       "      <td>4.95</td>\n",
       "      <td>14659</td>\n",
       "      <td>United Kingdom</td>\n",
       "      <td>0</td>\n",
       "    </tr>\n",
       "    <tr>\n",
       "      <th>111968</th>\n",
       "      <td>C545852</td>\n",
       "      <td>22464</td>\n",
       "      <td>HANGING METAL HEART LANTERN</td>\n",
       "      <td>-5</td>\n",
       "      <td>2011-03-07 13:49:00</td>\n",
       "      <td>1.65</td>\n",
       "      <td>14048</td>\n",
       "      <td>United Kingdom</td>\n",
       "      <td>0</td>\n",
       "    </tr>\n",
       "    <tr>\n",
       "      <th>116064</th>\n",
       "      <td>C546191</td>\n",
       "      <td>47566B</td>\n",
       "      <td>TEA TIME PARTY BUNTING</td>\n",
       "      <td>-35</td>\n",
       "      <td>2011-03-10 10:57:00</td>\n",
       "      <td>0.70</td>\n",
       "      <td>16422</td>\n",
       "      <td>United Kingdom</td>\n",
       "      <td>0</td>\n",
       "    </tr>\n",
       "    <tr>\n",
       "      <th>132642</th>\n",
       "      <td>C547675</td>\n",
       "      <td>22263</td>\n",
       "      <td>FELT EGG COSY LADYBIRD</td>\n",
       "      <td>-49</td>\n",
       "      <td>2011-03-24 14:07:00</td>\n",
       "      <td>0.66</td>\n",
       "      <td>17754</td>\n",
       "      <td>United Kingdom</td>\n",
       "      <td>0</td>\n",
       "    </tr>\n",
       "  </tbody>\n",
       "</table>\n",
       "</div>"
      ],
      "text/plain": [
       "       InvoiceNo StockCode                   Description  Quantity  \\\n",
       "77598    C542742    84535B  FAIRY CAKES NOTEBOOK A6 SIZE       -94   \n",
       "90444    C544038     22784         LANTERN CREAM GAZEBO         -4   \n",
       "111968   C545852     22464   HANGING METAL HEART LANTERN        -5   \n",
       "116064   C546191    47566B        TEA TIME PARTY BUNTING       -35   \n",
       "132642   C547675     22263       FELT EGG COSY LADYBIRD        -49   \n",
       "\n",
       "               InvoiceDate  UnitPrice CustomerID         Country  \\\n",
       "77598  2011-01-31 16:26:00       0.65      15358  United Kingdom   \n",
       "90444  2011-02-15 11:32:00       4.95      14659  United Kingdom   \n",
       "111968 2011-03-07 13:49:00       1.65      14048  United Kingdom   \n",
       "116064 2011-03-10 10:57:00       0.70      16422  United Kingdom   \n",
       "132642 2011-03-24 14:07:00       0.66      17754  United Kingdom   \n",
       "\n",
       "        QuantityCanceled  \n",
       "77598                  0  \n",
       "90444                  0  \n",
       "111968                 0  \n",
       "116064                 0  \n",
       "132642                 0  "
      ]
     },
     "execution_count": 17,
     "metadata": {},
     "output_type": "execute_result"
    }
   ],
   "source": [
    "df_cleaned.drop(entry_to_remove, axis = 0, inplace = True)\n",
    "df_cleaned.drop(doubtfull_entry, axis = 0, inplace = True)\n",
    "remaining_entries = df_cleaned[(df_cleaned['Quantity'] < 0) & (df_cleaned['StockCode'] != 'D')]\n",
    "print(\"nb of entries to delete: {}\".format(remaining_entries.shape[0]))\n",
    "remaining_entries[:5]"
   ]
  },
  {
   "cell_type": "markdown",
   "metadata": {},
   "source": [
    "If one looks, for example, at the purchases of the consumer of one of the above entries and corresponding to the same product as that of the cancellation, one observes:"
   ]
  },
  {
   "cell_type": "code",
   "execution_count": 18,
   "metadata": {
    "ExecuteTime": {
     "end_time": "2021-04-28T19:38:17.414043Z",
     "start_time": "2021-04-28T19:38:17.349583Z"
    },
    "_cell_guid": "86494812-a35a-49a8-a80d-5b2ef3b0913f",
    "_uuid": "5ded98b83a85e0fd038b1a5c5edb67d7773d41ee",
    "scrolled": true
   },
   "outputs": [
    {
     "data": {
      "text/html": [
       "<div>\n",
       "<style scoped>\n",
       "    .dataframe tbody tr th:only-of-type {\n",
       "        vertical-align: middle;\n",
       "    }\n",
       "\n",
       "    .dataframe tbody tr th {\n",
       "        vertical-align: top;\n",
       "    }\n",
       "\n",
       "    .dataframe thead th {\n",
       "        text-align: right;\n",
       "    }\n",
       "</style>\n",
       "<table border=\"1\" class=\"dataframe\">\n",
       "  <thead>\n",
       "    <tr style=\"text-align: right;\">\n",
       "      <th></th>\n",
       "      <th>InvoiceNo</th>\n",
       "      <th>StockCode</th>\n",
       "      <th>Description</th>\n",
       "      <th>Quantity</th>\n",
       "      <th>InvoiceDate</th>\n",
       "      <th>UnitPrice</th>\n",
       "      <th>CustomerID</th>\n",
       "      <th>Country</th>\n",
       "      <th>QuantityCanceled</th>\n",
       "    </tr>\n",
       "  </thead>\n",
       "  <tbody>\n",
       "  </tbody>\n",
       "</table>\n",
       "</div>"
      ],
      "text/plain": [
       "Empty DataFrame\n",
       "Columns: [InvoiceNo, StockCode, Description, Quantity, InvoiceDate, UnitPrice, CustomerID, Country, QuantityCanceled]\n",
       "Index: []"
      ]
     },
     "execution_count": 18,
     "metadata": {},
     "output_type": "execute_result"
    }
   ],
   "source": [
    "df_cleaned[(df_cleaned['CustomerID'] == 14048) & (df_cleaned['StockCode'] == '22464')]"
   ]
  },
  {
   "cell_type": "markdown",
   "metadata": {},
   "source": [
    "We see that the quantity canceled is greater than the sum of the previous purchases.\n",
    "\n",
    "---\n",
    "\n",
    "#### **Analysis of the StockCode**\n",
    "\n",
    "Above, it has been seen that some values of the ** StockCode ** variable indicate a particular transaction (i.e. D for _Discount_). I check the contents of this variable by looking for the set of codes that would contain only letters:"
   ]
  },
  {
   "cell_type": "code",
   "execution_count": 19,
   "metadata": {
    "ExecuteTime": {
     "end_time": "2021-04-28T19:38:17.696294Z",
     "start_time": "2021-04-28T19:38:17.416371Z"
    },
    "_cell_guid": "e00212c8-5c1e-4dda-a392-cbc68c1964b1",
    "_kg_hide-input": true,
    "_uuid": "57e546917a0ea9a59a0e1dc3e0f9179c7efa66b5",
    "scrolled": true
   },
   "outputs": [
    {
     "data": {
      "text/plain": [
       "array(['POST', 'D', 'C2', 'M', 'BANK CHARGES', 'PADS', 'DOT'],\n",
       "      dtype=object)"
      ]
     },
     "execution_count": 19,
     "metadata": {},
     "output_type": "execute_result"
    }
   ],
   "source": [
    "list_special_codes = df_cleaned[df_cleaned['StockCode'].str.contains('^[a-zA-Z]+', regex=True)]['StockCode'].unique()\n",
    "list_special_codes"
   ]
  },
  {
   "cell_type": "code",
   "execution_count": 20,
   "metadata": {
    "ExecuteTime": {
     "end_time": "2021-04-28T19:38:17.884112Z",
     "start_time": "2021-04-28T19:38:17.698895Z"
    },
    "_cell_guid": "0a225335-7d6e-4c5b-a874-801e3f329f10",
    "_kg_hide-input": true,
    "_uuid": "ce078be30fea360c161b449a8cb666d98808e936"
   },
   "outputs": [
    {
     "name": "stdout",
     "output_type": "stream",
     "text": [
      "POST            -> POSTAGE                       \n",
      "D               -> Discount                      \n",
      "C2              -> CARRIAGE                      \n",
      "M               -> Manual                        \n",
      "BANK CHARGES    -> Bank Charges                  \n",
      "PADS            -> PADS TO MATCH ALL CUSHIONS    \n",
      "DOT             -> DOTCOM POSTAGE                \n"
     ]
    }
   ],
   "source": [
    "for code in list_special_codes:\n",
    "    print(\"{:<15} -> {:<30}\".format(code, df_cleaned[df_cleaned['StockCode'] == code]['Description'].unique()[0]))"
   ]
  },
  {
   "cell_type": "markdown",
   "metadata": {},
   "source": [
    "We see that there are several types of peculiar transactions, connected e.g. to port charges or bank charges.\n",
    "\n",
    "\n",
    "___\n",
    "#### Analysis of Basket Price\n",
    "\n",
    "\n",
    "I create a new variable that indicates the total price of every purchase:"
   ]
  },
  {
   "cell_type": "code",
   "execution_count": 21,
   "metadata": {
    "ExecuteTime": {
     "end_time": "2021-04-28T19:38:18.282695Z",
     "start_time": "2021-04-28T19:38:17.886584Z"
    },
    "_cell_guid": "3cbf20c0-0a44-49dc-96c3-ffd5455ddf0b",
    "_kg_hide-input": true,
    "_uuid": "5f070241e41d989ed3de0769d9f35f330d086415"
   },
   "outputs": [
    {
     "data": {
      "text/html": [
       "<div>\n",
       "<style scoped>\n",
       "    .dataframe tbody tr th:only-of-type {\n",
       "        vertical-align: middle;\n",
       "    }\n",
       "\n",
       "    .dataframe tbody tr th {\n",
       "        vertical-align: top;\n",
       "    }\n",
       "\n",
       "    .dataframe thead th {\n",
       "        text-align: right;\n",
       "    }\n",
       "</style>\n",
       "<table border=\"1\" class=\"dataframe\">\n",
       "  <thead>\n",
       "    <tr style=\"text-align: right;\">\n",
       "      <th></th>\n",
       "      <th>InvoiceNo</th>\n",
       "      <th>StockCode</th>\n",
       "      <th>Description</th>\n",
       "      <th>Quantity</th>\n",
       "      <th>InvoiceDate</th>\n",
       "      <th>UnitPrice</th>\n",
       "      <th>CustomerID</th>\n",
       "      <th>Country</th>\n",
       "      <th>QuantityCanceled</th>\n",
       "      <th>TotalPrice</th>\n",
       "    </tr>\n",
       "  </thead>\n",
       "  <tbody>\n",
       "    <tr>\n",
       "      <th>61619</th>\n",
       "      <td>541431</td>\n",
       "      <td>23166</td>\n",
       "      <td>MEDIUM CERAMIC TOP STORAGE JAR</td>\n",
       "      <td>74215</td>\n",
       "      <td>2011-01-18 10:01:00</td>\n",
       "      <td>1.04</td>\n",
       "      <td>12346</td>\n",
       "      <td>United Kingdom</td>\n",
       "      <td>74215</td>\n",
       "      <td>0.0</td>\n",
       "    </tr>\n",
       "    <tr>\n",
       "      <th>148288</th>\n",
       "      <td>549222</td>\n",
       "      <td>22375</td>\n",
       "      <td>AIRLINE BAG VINTAGE JET SET BROWN</td>\n",
       "      <td>4</td>\n",
       "      <td>2011-04-07 10:43:00</td>\n",
       "      <td>4.25</td>\n",
       "      <td>12347</td>\n",
       "      <td>Iceland</td>\n",
       "      <td>0</td>\n",
       "      <td>17.0</td>\n",
       "    </tr>\n",
       "    <tr>\n",
       "      <th>428971</th>\n",
       "      <td>573511</td>\n",
       "      <td>22698</td>\n",
       "      <td>PINK REGENCY TEACUP AND SAUCER</td>\n",
       "      <td>12</td>\n",
       "      <td>2011-10-31 12:25:00</td>\n",
       "      <td>2.95</td>\n",
       "      <td>12347</td>\n",
       "      <td>Iceland</td>\n",
       "      <td>0</td>\n",
       "      <td>35.4</td>\n",
       "    </tr>\n",
       "    <tr>\n",
       "      <th>428970</th>\n",
       "      <td>573511</td>\n",
       "      <td>47559B</td>\n",
       "      <td>TEA TIME OVEN GLOVE</td>\n",
       "      <td>10</td>\n",
       "      <td>2011-10-31 12:25:00</td>\n",
       "      <td>1.25</td>\n",
       "      <td>12347</td>\n",
       "      <td>Iceland</td>\n",
       "      <td>0</td>\n",
       "      <td>12.5</td>\n",
       "    </tr>\n",
       "    <tr>\n",
       "      <th>428969</th>\n",
       "      <td>573511</td>\n",
       "      <td>47567B</td>\n",
       "      <td>TEA TIME KITCHEN APRON</td>\n",
       "      <td>6</td>\n",
       "      <td>2011-10-31 12:25:00</td>\n",
       "      <td>5.95</td>\n",
       "      <td>12347</td>\n",
       "      <td>Iceland</td>\n",
       "      <td>0</td>\n",
       "      <td>35.7</td>\n",
       "    </tr>\n",
       "  </tbody>\n",
       "</table>\n",
       "</div>"
      ],
      "text/plain": [
       "       InvoiceNo StockCode                        Description  Quantity  \\\n",
       "61619     541431     23166     MEDIUM CERAMIC TOP STORAGE JAR     74215   \n",
       "148288    549222     22375  AIRLINE BAG VINTAGE JET SET BROWN         4   \n",
       "428971    573511     22698     PINK REGENCY TEACUP AND SAUCER        12   \n",
       "428970    573511    47559B                TEA TIME OVEN GLOVE        10   \n",
       "428969    573511    47567B             TEA TIME KITCHEN APRON         6   \n",
       "\n",
       "               InvoiceDate  UnitPrice CustomerID         Country  \\\n",
       "61619  2011-01-18 10:01:00       1.04      12346  United Kingdom   \n",
       "148288 2011-04-07 10:43:00       4.25      12347         Iceland   \n",
       "428971 2011-10-31 12:25:00       2.95      12347         Iceland   \n",
       "428970 2011-10-31 12:25:00       1.25      12347         Iceland   \n",
       "428969 2011-10-31 12:25:00       5.95      12347         Iceland   \n",
       "\n",
       "        QuantityCanceled  TotalPrice  \n",
       "61619              74215         0.0  \n",
       "148288                 0        17.0  \n",
       "428971                 0        35.4  \n",
       "428970                 0        12.5  \n",
       "428969                 0        35.7  "
      ]
     },
     "execution_count": 21,
     "metadata": {},
     "output_type": "execute_result"
    }
   ],
   "source": [
    "df_cleaned['TotalPrice'] = df_cleaned['UnitPrice'] * (df_cleaned['Quantity'] - df_cleaned['QuantityCanceled'])\n",
    "df_cleaned.sort_values('CustomerID')[:5]"
   ]
  },
  {
   "cell_type": "markdown",
   "metadata": {},
   "source": [
    "Each entry of the dataframe indicates prizes for a single kind of product. Hence, orders are split on several lines. I collect all the purchases made during a single order to recover the total order prize:"
   ]
  },
  {
   "cell_type": "code",
   "execution_count": 22,
   "metadata": {
    "ExecuteTime": {
     "end_time": "2021-04-28T19:38:18.914352Z",
     "start_time": "2021-04-28T19:38:18.285432Z"
    },
    "_cell_guid": "5e4530b2-addf-4dc7-9ca8-065c26b73023",
    "_kg_hide-input": true,
    "_uuid": "653fd7be2e985cf4578af4306f40948926fb60b3"
   },
   "outputs": [
    {
     "data": {
      "text/html": [
       "<div>\n",
       "<style scoped>\n",
       "    .dataframe tbody tr th:only-of-type {\n",
       "        vertical-align: middle;\n",
       "    }\n",
       "\n",
       "    .dataframe tbody tr th {\n",
       "        vertical-align: top;\n",
       "    }\n",
       "\n",
       "    .dataframe thead th {\n",
       "        text-align: right;\n",
       "    }\n",
       "</style>\n",
       "<table border=\"1\" class=\"dataframe\">\n",
       "  <thead>\n",
       "    <tr style=\"text-align: right;\">\n",
       "      <th></th>\n",
       "      <th>CustomerID</th>\n",
       "      <th>InvoiceNo</th>\n",
       "      <th>Basket Price</th>\n",
       "      <th>InvoiceDate</th>\n",
       "    </tr>\n",
       "  </thead>\n",
       "  <tbody>\n",
       "    <tr>\n",
       "      <th>1</th>\n",
       "      <td>12347</td>\n",
       "      <td>537626</td>\n",
       "      <td>711.79</td>\n",
       "      <td>2010-12-07 14:57:00.000001024</td>\n",
       "    </tr>\n",
       "    <tr>\n",
       "      <th>2</th>\n",
       "      <td>12347</td>\n",
       "      <td>542237</td>\n",
       "      <td>475.39</td>\n",
       "      <td>2011-01-26 14:29:59.999999744</td>\n",
       "    </tr>\n",
       "    <tr>\n",
       "      <th>3</th>\n",
       "      <td>12347</td>\n",
       "      <td>549222</td>\n",
       "      <td>636.25</td>\n",
       "      <td>2011-04-07 10:42:59.999999232</td>\n",
       "    </tr>\n",
       "    <tr>\n",
       "      <th>4</th>\n",
       "      <td>12347</td>\n",
       "      <td>556201</td>\n",
       "      <td>382.52</td>\n",
       "      <td>2011-06-09 13:01:00.000000256</td>\n",
       "    </tr>\n",
       "    <tr>\n",
       "      <th>5</th>\n",
       "      <td>12347</td>\n",
       "      <td>562032</td>\n",
       "      <td>584.91</td>\n",
       "      <td>2011-08-02 08:48:00.000000000</td>\n",
       "    </tr>\n",
       "    <tr>\n",
       "      <th>6</th>\n",
       "      <td>12347</td>\n",
       "      <td>573511</td>\n",
       "      <td>1294.32</td>\n",
       "      <td>2011-10-31 12:25:00.000001280</td>\n",
       "    </tr>\n",
       "  </tbody>\n",
       "</table>\n",
       "</div>"
      ],
      "text/plain": [
       "  CustomerID InvoiceNo  Basket Price                   InvoiceDate\n",
       "1      12347    537626        711.79 2010-12-07 14:57:00.000001024\n",
       "2      12347    542237        475.39 2011-01-26 14:29:59.999999744\n",
       "3      12347    549222        636.25 2011-04-07 10:42:59.999999232\n",
       "4      12347    556201        382.52 2011-06-09 13:01:00.000000256\n",
       "5      12347    562032        584.91 2011-08-02 08:48:00.000000000\n",
       "6      12347    573511       1294.32 2011-10-31 12:25:00.000001280"
      ]
     },
     "execution_count": 22,
     "metadata": {},
     "output_type": "execute_result"
    }
   ],
   "source": [
    "\n",
    "# sum of purchases / user & order\n",
    "temp = df_cleaned.groupby(by=['CustomerID', 'InvoiceNo'], as_index=False)['TotalPrice'].sum()\n",
    "basket_price = temp.rename(columns = {'TotalPrice':'Basket Price'})\n",
    "\n",
    "# date of the order\n",
    "df_cleaned['InvoiceDate_int'] = df_cleaned['InvoiceDate'].astype('int64')\n",
    "temp = df_cleaned.groupby(by=['CustomerID', 'InvoiceNo'], as_index=False)['InvoiceDate_int'].mean()\n",
    "df_cleaned.drop('InvoiceDate_int', axis = 1, inplace = True)\n",
    "basket_price.loc[:, 'InvoiceDate'] = pd.to_datetime(temp['InvoiceDate_int'])\n",
    "\n",
    "# selection of significant entries\n",
    "basket_price = basket_price[basket_price['Basket Price'] > 0]\n",
    "basket_price.sort_values('CustomerID')[:6]"
   ]
  },
  {
   "cell_type": "markdown",
   "metadata": {},
   "source": [
    "In order to have a global view of the type of order performed in this dataset, I determine how the purchases are divided according to total prizes:"
   ]
  },
  {
   "cell_type": "code",
   "execution_count": 23,
   "metadata": {
    "ExecuteTime": {
     "end_time": "2021-04-28T19:38:19.129470Z",
     "start_time": "2021-04-28T19:38:18.922266Z"
    },
    "_cell_guid": "25f72313-bc56-4a10-99b1-243f147b1756",
    "_kg_hide-input": true,
    "_uuid": "b1b30be7aa80d7a5287e6fd783b5d8cdbff4032d"
   },
   "outputs": [
    {
     "data": {
      "image/png": "[encoded data removed]",
      "text/plain": [
       "<Figure size 792x432 with 1 Axes>"
      ]
     },
     "metadata": {},
     "output_type": "display_data"
    }
   ],
   "source": [
    "# Purchase count\n",
    "price_range = [0, 50, 100, 200, 500, 1000, 5000, 50000]\n",
    "count_price = []\n",
    "for i, price in enumerate(price_range):\n",
    "    if i == 0: continue\n",
    "    val = basket_price[(basket_price['Basket Price'] < price) &\n",
    "                       (basket_price['Basket Price'] > price_range[i-1])]['Basket Price'].count()\n",
    "    count_price.append(val)\n",
    "\n",
    "# Representation of the number of purchases / amount       \n",
    "plt.rc('font', weight='bold')\n",
    "f, ax = plt.subplots(figsize=(11, 6))\n",
    "colors = ['yellowgreen', 'gold', 'wheat', 'c', 'violet', 'royalblue','firebrick']\n",
    "labels = [ '{}<.<{}'.format(price_range[i-1], s) for i,s in enumerate(price_range) if i != 0]\n",
    "sizes  = count_price\n",
    "explode = [0.0 if sizes[i] < 100 else 0.0 for i in range(len(sizes))]\n",
    "ax.pie(sizes, explode = explode, labels=labels, colors = colors,\n",
    "       autopct = lambda x:'{:1.0f}%'.format(x) if x > 1 else '',\n",
    "       shadow = False, startangle=0)\n",
    "ax.axis('equal')\n",
    "f.text(0.5, 1.01, \"Distribution of order amounts\", ha='center', fontsize = 18);"
   ]
  },
  {
   "cell_type": "markdown",
   "metadata": {},
   "source": [
    "It can be seen that the vast majority of orders concern relatively large purchases given that $\\sim$65% of purchases give prizes in excess of £ 200."
   ]
  },
  {
   "cell_type": "markdown",
   "metadata": {},
   "source": [
    "###  Analysis of the product categories\n",
    "\n",
    "In the data-frame, products are uniquely identified through the **StockCode** variable. A short description of the products is given in the **Description** variable. In this section, I intend to use the content of this latter variable in order to group the products into different categories."
   ]
  },
  {
   "cell_type": "markdown",
   "metadata": {},
   "source": [
    "#### Products Description\n",
    "\n",
    "\n",
    "As a first step, I extract from the **Description** variable the information that will prove useful. To do this, I use the following function:"
   ]
  },
  {
   "cell_type": "code",
   "execution_count": 24,
   "metadata": {
    "ExecuteTime": {
     "end_time": "2021-04-28T19:38:19.144422Z",
     "start_time": "2021-04-28T19:38:19.134616Z"
    },
    "_cell_guid": "62aada7f-1d61-493e-a044-08fcc7bdfb81",
    "_kg_hide-input": true,
    "_uuid": "4ae364672f6cede623fd0e032e34d967e4f32ee1"
   },
   "outputs": [],
   "source": [
    "is_noun = lambda pos: pos[:2] == 'NN'\n",
    "\n",
    "def keywords_inventory(dataframe, colonne = 'Description'):\n",
    "    stemmer = nltk.stem.SnowballStemmer(\"english\")\n",
    "    keywords_roots  = dict()  # collect the words / root\n",
    "    keywords_select = dict()  # association: root <-> keyword\n",
    "    category_keys   = []\n",
    "    count_keywords  = dict()\n",
    "    icount = 0\n",
    "    for s in dataframe[colonne]:\n",
    "        if pd.isnull(s): continue\n",
    "        lines = s.lower()\n",
    "        tokenized = nltk.word_tokenize(lines)\n",
    "        nouns = [word for (word, pos) in nltk.pos_tag(tokenized) if is_noun(pos)] \n",
    "        \n",
    "        for t in nouns:\n",
    "            t = t.lower() ; racine = stemmer.stem(t)\n",
    "            if racine in keywords_roots:                \n",
    "                keywords_roots[racine].add(t)\n",
    "                count_keywords[racine] += 1                \n",
    "            else:\n",
    "                keywords_roots[racine] = {t}\n",
    "                count_keywords[racine] = 1\n",
    "    \n",
    "    for s in keywords_roots.keys():\n",
    "        if len(keywords_roots[s]) > 1:  \n",
    "            min_length = 1000\n",
    "            for k in keywords_roots[s]:\n",
    "                if len(k) < min_length:\n",
    "                    clef = k ; min_length = len(k)            \n",
    "            category_keys.append(clef)\n",
    "            keywords_select[s] = clef\n",
    "        else:\n",
    "            category_keys.append(list(keywords_roots[s])[0])\n",
    "            keywords_select[s] = list(keywords_roots[s])[0]\n",
    "                   \n",
    "    print(\"number of keywords in variable '{}': {}\".format(colonne,len(category_keys)))\n",
    "    return category_keys, keywords_roots, keywords_select, count_keywords"
   ]
  },
  {
   "cell_type": "markdown",
   "metadata": {},
   "source": [
    "This function takes as input the dataframe and analyzes the content of the **Description** column by performing the following operations:\n",
    "\n",
    "- extract the names (proper, common) appearing in the products description\n",
    "- for each name, I extract the root of the word and aggregate the set of names associated with this particular root\n",
    "- count the number of times each root appears in the dataframe\n",
    "- when several words are listed for the same root, I consider that the keyword associated with this root is the shortest name (this systematically selects the singular when there are singular/plural variants)\n",
    "\n",
    "The first step of the analysis is to retrieve the list of products:"
   ]
  },
  {
   "cell_type": "code",
   "execution_count": 25,
   "metadata": {
    "ExecuteTime": {
     "end_time": "2021-04-28T19:38:19.194078Z",
     "start_time": "2021-04-28T19:38:19.147257Z"
    },
    "_cell_guid": "f4da3052-c465-47bf-9652-a10a8ac51eb6",
    "_kg_hide-input": true,
    "_uuid": "1239a65ae122b1c020db626e5167451a950d8226"
   },
   "outputs": [],
   "source": [
    "df_produits = pd.DataFrame(df_initial['Description'].unique()).rename(columns = {0:'Description'})"
   ]
  },
  {
   "cell_type": "markdown",
   "metadata": {},
   "source": [
    "Once this list is created, I use the function I previously defined in order to analyze the description of the various products:"
   ]
  },
  {
   "cell_type": "code",
   "execution_count": 26,
   "metadata": {
    "ExecuteTime": {
     "end_time": "2021-04-28T19:38:19.348285Z",
     "start_time": "2021-04-28T19:38:19.196168Z"
    }
   },
   "outputs": [
    {
     "name": "stderr",
     "output_type": "stream",
     "text": [
      "[nltk_data] Downloading package averaged_perceptron_tagger to\n",
      "[nltk_data]     /Users/adam/nltk_data...\n",
      "[nltk_data]   Package averaged_perceptron_tagger is already up-to-\n",
      "[nltk_data]       date!\n"
     ]
    },
    {
     "data": {
      "text/plain": [
       "True"
      ]
     },
     "execution_count": 26,
     "metadata": {},
     "output_type": "execute_result"
    }
   ],
   "source": [
    "import nltk\n",
    "nltk.download('averaged_perceptron_tagger')"
   ]
  },
  {
   "cell_type": "code",
   "execution_count": 27,
   "metadata": {
    "ExecuteTime": {
     "end_time": "2021-04-28T19:38:22.940681Z",
     "start_time": "2021-04-28T19:38:19.350427Z"
    },
    "_cell_guid": "f52a4134-c9c7-4d17-8510-8f55b1530cbb",
    "_kg_hide-input": true,
    "_uuid": "38c4872616b2c40bf69982070165cc9db3d0ea69"
   },
   "outputs": [
    {
     "name": "stdout",
     "output_type": "stream",
     "text": [
      "number of keywords in variable 'Description': 1484\n"
     ]
    }
   ],
   "source": [
    "keywords, keywords_roots, keywords_select, count_keywords = keywords_inventory(df_produits)"
   ]
  },
  {
   "cell_type": "markdown",
   "metadata": {},
   "source": [
    "The execution of this function returns three variables:\n",
    "- `keywords`: the list of extracted keywords\n",
    "- `keywords_roots`: a dictionary where the keys are the keywords roots and the values are the lists of words associated with those roots\n",
    "- `count_keywords`: dictionary listing the number of times every word is used\n",
    "\n",
    "At this point, I convert the `count_keywords` dictionary into a list, to sort the keywords according to their occurrence:"
   ]
  },
  {
   "cell_type": "code",
   "execution_count": 28,
   "metadata": {
    "ExecuteTime": {
     "end_time": "2021-04-28T19:38:22.947743Z",
     "start_time": "2021-04-28T19:38:22.943203Z"
    },
    "_cell_guid": "e033781a-8038-4302-93ed-78966554b7cc",
    "_kg_hide-input": true,
    "_uuid": "66fb955b137916f16d838f95a6f5bbe5e4952334"
   },
   "outputs": [],
   "source": [
    "list_products = []\n",
    "for k,v in count_keywords.items():\n",
    "    list_products.append([keywords_select[k],v])\n",
    "list_products.sort(key = lambda x:x[1], reverse = True)"
   ]
  },
  {
   "cell_type": "markdown",
   "metadata": {},
   "source": [
    "Using it, I create a representation of the most common keywords:"
   ]
  },
  {
   "cell_type": "code",
   "execution_count": 29,
   "metadata": {
    "ExecuteTime": {
     "end_time": "2021-04-28T19:38:25.375759Z",
     "start_time": "2021-04-28T19:38:22.950552Z"
    },
    "_cell_guid": "d6c78812-343e-41af-8e4e-ef0292dc4f7e",
    "_kg_hide-input": true,
    "_uuid": "fcdf4d98e372a1d65c931b7a6d5c29f269938022"
   },
   "outputs": [
    {
     "data": {
      "image/png": "[encoded data removed]",
      "text/plain": [
       "<Figure size 504x1800 with 1 Axes>"
      ]
     },
     "metadata": {
      "needs_background": "light"
     },
     "output_type": "display_data"
    }
   ],
   "source": [
    "liste = sorted(list_products, key = lambda x:x[1], reverse = True)\n",
    "\n",
    "plt.rc('font', weight='normal')\n",
    "fig, ax = plt.subplots(figsize=(7, 25))\n",
    "y_axis = [i[1] for i in liste[:125]]\n",
    "x_axis = [k for k,i in enumerate(liste[:125])]\n",
    "x_label = [i[0] for i in liste[:125]]\n",
    "plt.xticks(fontsize = 15)\n",
    "plt.yticks(fontsize = 13)\n",
    "plt.yticks(x_axis, x_label)\n",
    "plt.xlabel(\"Number of occurences\", fontsize = 18, labelpad = 10)\n",
    "ax.barh(x_axis, y_axis, align = 'center')\n",
    "ax = plt.gca()\n",
    "ax.invert_yaxis()\n",
    "\n",
    "plt.title(\"Words occurence\",bbox={'facecolor':'k', 'pad':5}, color='w',fontsize = 25)\n",
    "plt.show()"
   ]
  },
  {
   "cell_type": "markdown",
   "metadata": {},
   "source": [
    "### Defining product categories \n",
    "\n",
    "The list that was obtained contains more than 1400 keywords and the most frequent ones appear in more than 200 products. However, while examining the content of the list, I note that some names are useless. Others are do not carry information, like colors. Therefore, I discard these words from the analysis that follows and also, I decide to consider only the words that appear more than 13 times."
   ]
  },
  {
   "cell_type": "code",
   "execution_count": 30,
   "metadata": {
    "ExecuteTime": {
     "end_time": "2021-04-28T19:38:25.385353Z",
     "start_time": "2021-04-28T19:38:25.377821Z"
    },
    "_cell_guid": "43300478-3b5a-4c7a-9466-34c384ccae60",
    "_kg_hide-input": true,
    "_uuid": "5f42482995f36f15688d8cba7f903e1277da5f92"
   },
   "outputs": [
    {
     "name": "stdout",
     "output_type": "stream",
     "text": [
      "Preserved words: 193\n"
     ]
    }
   ],
   "source": [
    "list_products = []\n",
    "for k,v in count_keywords.items():\n",
    "    word = keywords_select[k]\n",
    "    if word in ['pink', 'blue', 'tag', 'green', 'orange']: continue\n",
    "    if len(word) < 3 or v < 13: continue\n",
    "    if ('+' in word) or ('/' in word): continue\n",
    "    list_products.append([word, v])\n",
    " \n",
    "list_products.sort(key = lambda x:x[1], reverse = True)\n",
    "print('Preserved words:', len(list_products))"
   ]
  },
  {
   "cell_type": "markdown",
   "metadata": {},
   "source": [
    "#### Data encoding\n",
    "\n",
    "Now I will use these keywords to create groups of product. Firstly, I define the $X$ matrix as:"
   ]
  },
  {
   "cell_type": "markdown",
   "metadata": {},
   "source": [
    "   \n",
    "|   | word  1  |  ...  | word j  | ...  | word N  |\n",
    "|:-:|---|---|---|---|---|\n",
    "| product 1  | $a_{1,1}$  |     |   |   | $a_{1,N}$  |\n",
    "| ...        |            |     | ...  |   |   |\n",
    "|product i   |    ...     |     | $a_{i,j}$    |   | ...  |\n",
    "|...         |            |     |  ... |   |   |\n",
    "| product M  | $a_{M,1}$  |     |   |   | $a_{M,N}$   |"
   ]
  },
  {
   "cell_type": "markdown",
   "metadata": {},
   "source": [
    "where the $a_ {i, j}$ coefficient  is 1 if the description of the product $i$ contains the word $j$, and 0 otherwise."
   ]
  },
  {
   "cell_type": "code",
   "execution_count": 31,
   "metadata": {
    "ExecuteTime": {
     "end_time": "2021-04-28T19:38:27.119261Z",
     "start_time": "2021-04-28T19:38:25.387978Z"
    },
    "_cell_guid": "23c77363-438b-4694-9b52-960c0ab3aa82",
    "_kg_hide-input": true,
    "_uuid": "d6faac7eb01d2251fb221569b75e007c8d5146aa"
   },
   "outputs": [],
   "source": [
    "liste_produits = df_cleaned['Description'].unique()\n",
    "#print(liste_produits[0:2])\n",
    "X = pd.DataFrame()\n",
    "for key, occurence in list_products:\n",
    "    X.loc[:, key] = list(map(lambda x:int(key.upper() in x), liste_produits))\n",
    "#print(X[0:1])"
   ]
  },
  {
   "cell_type": "markdown",
   "metadata": {},
   "source": [
    "* The $X$ matrix indicates the words contained in the description of the products using the *one-hot-encoding* principle. \n",
    "\n",
    "\n",
    "\n",
    "* In practice, I have found that introducing the price range results in more balanced groups in terms of element numbers.\n",
    "Hence, I add 6 extra columns to this matrix, where I indicate the price range of the products:"
   ]
  },
  {
   "cell_type": "code",
   "execution_count": 32,
   "metadata": {
    "ExecuteTime": {
     "end_time": "2021-04-28T19:40:03.061704Z",
     "start_time": "2021-04-28T19:38:27.121414Z"
    },
    "_cell_guid": "739c9cb1-3278-4d3a-a412-25dd2e8bc7c4",
    "_kg_hide-input": true,
    "_uuid": "b26a6bc55b61d0bcaccaf7c303b90d2a04636ac4"
   },
   "outputs": [],
   "source": [
    "threshold = [0, 1, 2, 3, 5, 10]\n",
    "label_col = []\n",
    "for i in range(len(threshold)):\n",
    "    if i == len(threshold)-1:\n",
    "        col = '.>{}'.format(threshold[i])\n",
    "    else:\n",
    "        col = '{}<.<{}'.format(threshold[i],threshold[i+1])\n",
    "    #print(i)\n",
    "    #print(col)\n",
    "    label_col.append(col)\n",
    "    X.loc[:, col] = 0\n",
    "\n",
    "for i, prod in enumerate(liste_produits):\n",
    "    prix = df_cleaned[ df_cleaned['Description'] == prod]['UnitPrice'].mean()\n",
    "    #print (prix)\n",
    "    j = 0\n",
    "    while prix > threshold[j]:\n",
    "        j+=1\n",
    "        if j == len(threshold): break\n",
    "    X.loc[i, label_col[j-1]] = 1"
   ]
  },
  {
   "cell_type": "markdown",
   "metadata": {},
   "source": [
    "and to choose the appropriate ranges, I check the number of products in the different groups:"
   ]
  },
  {
   "cell_type": "code",
   "execution_count": 33,
   "metadata": {
    "ExecuteTime": {
     "end_time": "2021-04-28T19:40:03.072109Z",
     "start_time": "2021-04-28T19:40:03.064103Z"
    },
    "_cell_guid": "8587b9a3-d3a6-41ed-ac8a-9e0cdc9af31e",
    "_kg_hide-input": true,
    "_uuid": "6ad9fc6ed72057c63594d9d97d89742202f064f7"
   },
   "outputs": [
    {
     "name": "stdout",
     "output_type": "stream",
     "text": [
      "range    number of products   \n",
      "--------------------\n",
      "0<.<1       964                 \n",
      "1<.<2       1009                \n",
      "2<.<3       673                 \n",
      "3<.<5       606                 \n",
      "5<.<10      470                 \n",
      ".>10        156                 \n"
     ]
    }
   ],
   "source": [
    "print(\"{:<8} {:<20} \\n\".format('range', 'number of products') + 20*'-')\n",
    "for i in range(len(threshold)):\n",
    "    if i == len(threshold)-1:\n",
    "        col = '.>{}'.format(threshold[i])\n",
    "    else:\n",
    "        col = '{}<.<{}'.format(threshold[i],threshold[i+1])    \n",
    "    print(\"{:<10}  {:<20}\".format(col, X.loc[:, col].sum()))"
   ]
  },
  {
   "cell_type": "markdown",
   "metadata": {},
   "source": [
    "#### Creating clusters of products\n",
    "\n",
    "In this section, I will group the products into different classes. In the case of matrices with binary encoding, the most suitable metric for the calculation of distances is the [Hamming's metric](https://en.wikipedia.org/wiki/Distance_de_Hamming). Note that the **kmeans** method of sklearn uses a Euclidean distance that can be used, but it is not to the best choice in the case of categorical variables. However, in order to use the Hamming's metric, we need to use the [kmodes](https://pypi.python.org/pypi/kmodes/) package which is not available on the current plateform. Hence, I use the **kmeans** method even if this is not the best choice.\n",
    "\n",
    "In order to define (approximately) the number of clusters that best represents the data, I use the silhouette score:"
   ]
  },
  {
   "cell_type": "code",
   "execution_count": 34,
   "metadata": {
    "ExecuteTime": {
     "end_time": "2021-04-28T19:40:10.762777Z",
     "start_time": "2021-04-28T19:40:03.074740Z"
    },
    "_cell_guid": "1c81a7c3-8980-4941-9082-7bf5cf92fc14",
    "_kg_hide-input": true,
    "_uuid": "4ce8586584935e81b9e403ea7a1dd4b2e4c9992e"
   },
   "outputs": [
    {
     "name": "stdout",
     "output_type": "stream",
     "text": [
      "For n_clusters = 3 The average silhouette_score is : 0.10071681758064248\n",
      "For n_clusters = 4 The average silhouette_score is : 0.12609893747265383\n",
      "For n_clusters = 5 The average silhouette_score is : 0.14520347938271963\n",
      "For n_clusters = 6 The average silhouette_score is : 0.14929930833471303\n",
      "For n_clusters = 7 The average silhouette_score is : 0.14797624894747308\n",
      "For n_clusters = 8 The average silhouette_score is : 0.15436542130620282\n",
      "For n_clusters = 9 The average silhouette_score is : 0.1585544223457706\n"
     ]
    }
   ],
   "source": [
    "matrix = np.asmatrix(X)\n",
    "for n_clusters in range(3,10):\n",
    "    kmeans = KMeans(init='k-means++', n_clusters = n_clusters, n_init=30)\n",
    "    kmeans.fit(matrix)\n",
    "    clusters = kmeans.predict(matrix)\n",
    "    silhouette_avg = silhouette_score(matrix, clusters)\n",
    "    print(\"For n_clusters =\", n_clusters, \"The average silhouette_score is :\", silhouette_avg)"
   ]
  },
  {
   "cell_type": "markdown",
   "metadata": {},
   "source": [
    "In practice, the scores obtained above can be considered equivalent since, depending on the run, scores of $ 0.1 \\pm 0.05 $ will be obtained for all clusters with `n_clusters` $> $ 3 (we obtain slightly lower scores for the first cluster). On the other hand, I found that beyond 5 clusters, some clusters contained very few elements. I therefore choose to separate the dataset into 5 clusters. In order to ensure a good classification at every run of the notebook, I iterate untill we obtain the best possible silhouette score, which is, in the present case, around 0.15:"
   ]
  },
  {
   "cell_type": "code",
   "execution_count": 35,
   "metadata": {
    "ExecuteTime": {
     "end_time": "2021-04-28T19:40:12.115443Z",
     "start_time": "2021-04-28T19:40:10.767032Z"
    },
    "_cell_guid": "b29b3bb2-ef8d-4d7f-a19e-52045018ab8e",
    "_kg_hide-input": true,
    "_uuid": "72dd5bdab528264518bf034b84f66f3c29500fca"
   },
   "outputs": [
    {
     "name": "stdout",
     "output_type": "stream",
     "text": [
      "For n_clusters = 5 The average silhouette_score is : 0.1452148389646187\n"
     ]
    }
   ],
   "source": [
    "n_clusters = 5\n",
    "silhouette_avg = -1\n",
    "while silhouette_avg < 0.145:\n",
    "    kmeans = KMeans(init='k-means++', n_clusters = n_clusters, n_init=30)\n",
    "    kmeans.fit(matrix)\n",
    "    clusters = kmeans.predict(matrix)\n",
    "    silhouette_avg = silhouette_score(matrix, clusters)\n",
    "    \n",
    "    #km = kmodes.KModes(n_clusters = n_clusters, init='Huang', n_init=2, verbose=0)\n",
    "    #clusters = km.fit_predict(matrix)\n",
    "    #silhouette_avg = silhouette_score(matrix, clusters)\n",
    "    print(\"For n_clusters =\", n_clusters, \"The average silhouette_score is :\", silhouette_avg)"
   ]
  },
  {
   "cell_type": "markdown",
   "metadata": {},
   "source": [
    "#### Characterizing the content of clusters\n",
    "\n",
    "I check the number of elements in every class:"
   ]
  },
  {
   "cell_type": "code",
   "execution_count": 36,
   "metadata": {
    "ExecuteTime": {
     "end_time": "2021-04-28T19:40:12.126888Z",
     "start_time": "2021-04-28T19:40:12.119351Z"
    },
    "_cell_guid": "ad66161e-87ba-42ca-8128-bda16b470a34",
    "_kg_hide-input": true,
    "_uuid": "83591dd72975afde6a85d70429add02bd278c125"
   },
   "outputs": [
    {
     "data": {
      "text/plain": [
       "4    1159\n",
       "2     964\n",
       "3     673\n",
       "1     606\n",
       "0     476\n",
       "dtype: int64"
      ]
     },
     "execution_count": 36,
     "metadata": {},
     "output_type": "execute_result"
    }
   ],
   "source": [
    "pd.Series(clusters).value_counts()"
   ]
  },
  {
   "cell_type": "markdown",
   "metadata": {},
   "source": [
    "** a: _Silhouette intra-cluster score_ **\n",
    "\n",
    "In order to have an insight on the quality of the classification, we can represent the silhouette scores of each element of the different clusters. This is the purpose of the next figure which is taken from the [sklearn documentation](http://scikit-learn.org/stable/auto_examples/cluster/plot_kmeans_silhouette_analysis.html):"
   ]
  },
  {
   "cell_type": "code",
   "execution_count": 37,
   "metadata": {
    "ExecuteTime": {
     "end_time": "2021-04-28T19:40:12.140804Z",
     "start_time": "2021-04-28T19:40:12.131559Z"
    },
    "_cell_guid": "c2b26710-2269-47e5-8f0d-98f6eac0015a",
    "_kg_hide-input": true,
    "_uuid": "e9e48bbbc3bb0ffa8134175aefb1fe808dea33e8"
   },
   "outputs": [],
   "source": [
    "def graph_component_silhouette(n_clusters, lim_x, mat_size, sample_silhouette_values, clusters):\n",
    "    #plt.rcParams[\"patch.force_edgecolor\"] = True\n",
    "    plt.style.use('fivethirtyeight')\n",
    "    mpl.rc('patch', edgecolor = 'dimgray', linewidth=1)\n",
    "    \n",
    "    fig, ax1 = plt.subplots(1, 1)\n",
    "    fig.set_size_inches(8, 8)\n",
    "    ax1.set_xlim([lim_x[0], lim_x[1]])\n",
    "    ax1.set_ylim([0, mat_size + (n_clusters + 1) * 10])\n",
    "    y_lower = 10\n",
    "    for i in range(n_clusters):\n",
    "        \n",
    "        # Aggregate the silhouette scores for samples belonging to cluster i, and sort them\n",
    "        ith_cluster_silhouette_values = sample_silhouette_values[clusters == i]\n",
    "        ith_cluster_silhouette_values.sort()\n",
    "        size_cluster_i = ith_cluster_silhouette_values.shape[0]\n",
    "        y_upper = y_lower + size_cluster_i\n",
    "        #color = cm.spectral(float(i) / n_clusters) facecolor=color, edgecolor=color,       \n",
    "        ax1.fill_betweenx(np.arange(y_lower, y_upper), 0, ith_cluster_silhouette_values, alpha=0.8)\n",
    "        \n",
    "        # Label the silhouette plots with their cluster numbers at the middle\n",
    "        ax1.text(-0.03, y_lower + 0.5 * size_cluster_i, str(i), color = 'red', fontweight = 'bold',\n",
    "                bbox=dict(facecolor='white', edgecolor='black', boxstyle='round, pad=0.3'))\n",
    "       \n",
    "        # Compute the new y_lower for next plot\n",
    "        y_lower = y_upper + 10  "
   ]
  },
  {
   "cell_type": "code",
   "execution_count": 38,
   "metadata": {
    "ExecuteTime": {
     "end_time": "2021-04-28T19:40:12.804729Z",
     "start_time": "2021-04-28T19:40:12.144205Z"
    },
    "_cell_guid": "8ee417cb-29d9-4913-8e12-0c020ecde059",
    "_kg_hide-input": true,
    "_uuid": "cf9b40ed0d865401e4a05e06eec2bff97ace7059"
   },
   "outputs": [
    {
     "data": {
      "image/png": "[encoded data removed]",
      "text/plain": [
       "<Figure size 576x576 with 1 Axes>"
      ]
     },
     "metadata": {},
     "output_type": "display_data"
    }
   ],
   "source": [
    "\n",
    "# define individual silouhette scores\n",
    "sample_silhouette_values = silhouette_samples(matrix, clusters)\n",
    "\n",
    "# and do the graph\n",
    "graph_component_silhouette(n_clusters, [-0.07, 0.33], len(X), sample_silhouette_values, clusters)"
   ]
  },
  {
   "cell_type": "markdown",
   "metadata": {},
   "source": [
    "** b: _Word Cloud_**\n",
    "\n",
    "Now we can have a look at the type of objects that each cluster represents. In order to obtain a global view of their contents, I determine which keywords are the most frequent in each of them"
   ]
  },
  {
   "cell_type": "code",
   "execution_count": 39,
   "metadata": {
    "ExecuteTime": {
     "end_time": "2021-04-28T19:40:13.680751Z",
     "start_time": "2021-04-28T19:40:12.807808Z"
    },
    "_cell_guid": "159600b4-def2-4e4d-be54-6d84938721c4",
    "_kg_hide-input": true,
    "_uuid": "848009ae647f20366e148eeae96a4aa02f975618"
   },
   "outputs": [],
   "source": [
    "liste = pd.DataFrame(liste_produits)\n",
    "liste_words = [word for (word, occurence) in list_products]\n",
    "\n",
    "occurence = [dict() for _ in range(n_clusters)]\n",
    "\n",
    "for i in range(n_clusters):\n",
    "    liste_cluster = liste.loc[clusters == i]\n",
    "    for word in liste_words:\n",
    "        if word in ['art', 'set', 'heart', 'pink', 'blue', 'tag']: continue\n",
    "        occurence[i][word] = sum(liste_cluster.loc[:, 0].str.contains(word.upper()))"
   ]
  },
  {
   "cell_type": "markdown",
   "metadata": {},
   "source": [
    "and I output the result as wordclouds:"
   ]
  },
  {
   "cell_type": "code",
   "execution_count": 40,
   "metadata": {
    "ExecuteTime": {
     "end_time": "2021-04-28T19:40:14.344233Z",
     "start_time": "2021-04-28T19:40:13.684141Z"
    },
    "_cell_guid": "2995e126-925b-436f-8b68-55d874637b1e",
    "_kg_hide-input": true,
    "_uuid": "3d88a32f7998249ce42e267bb912acc7420f0c47"
   },
   "outputs": [
    {
     "ename": "NameError",
     "evalue": "name 'WordCloud' is not defined",
     "output_type": "error",
     "traceback": [
      "\u001b[0;31m---------------------------------------------------------------------------\u001b[0m",
      "\u001b[0;31mNameError\u001b[0m                                 Traceback (most recent call last)",
      "\u001b[0;32m<ipython-input-40-d3c3ddbc9bfa>\u001b[0m in \u001b[0;36m<module>\u001b[0;34m\u001b[0m\n\u001b[1;32m     32\u001b[0m         \u001b[0mliste\u001b[0m\u001b[0;34m.\u001b[0m\u001b[0mappend\u001b[0m\u001b[0;34m(\u001b[0m\u001b[0;34m[\u001b[0m\u001b[0mkey\u001b[0m\u001b[0;34m,\u001b[0m \u001b[0mvalue\u001b[0m\u001b[0;34m]\u001b[0m\u001b[0;34m)\u001b[0m\u001b[0;34m\u001b[0m\u001b[0;34m\u001b[0m\u001b[0m\n\u001b[1;32m     33\u001b[0m     \u001b[0mliste\u001b[0m\u001b[0;34m.\u001b[0m\u001b[0msort\u001b[0m\u001b[0;34m(\u001b[0m\u001b[0mkey\u001b[0m \u001b[0;34m=\u001b[0m \u001b[0;32mlambda\u001b[0m \u001b[0mx\u001b[0m\u001b[0;34m:\u001b[0m\u001b[0mx\u001b[0m\u001b[0;34m[\u001b[0m\u001b[0;36m1\u001b[0m\u001b[0;34m]\u001b[0m\u001b[0;34m,\u001b[0m \u001b[0mreverse\u001b[0m \u001b[0;34m=\u001b[0m \u001b[0;32mTrue\u001b[0m\u001b[0;34m)\u001b[0m\u001b[0;34m\u001b[0m\u001b[0;34m\u001b[0m\u001b[0m\n\u001b[0;32m---> 34\u001b[0;31m     \u001b[0mmake_wordcloud\u001b[0m\u001b[0;34m(\u001b[0m\u001b[0mliste\u001b[0m\u001b[0;34m,\u001b[0m \u001b[0mi\u001b[0m\u001b[0;34m+\u001b[0m\u001b[0;36m1\u001b[0m\u001b[0;34m)\u001b[0m\u001b[0;34m\u001b[0m\u001b[0;34m\u001b[0m\u001b[0m\n\u001b[0m",
      "\u001b[0;32m<ipython-input-40-d3c3ddbc9bfa>\u001b[0m in \u001b[0;36mmake_wordcloud\u001b[0;34m(liste, increment)\u001b[0m\n\u001b[1;32m     13\u001b[0m         \u001b[0mwords\u001b[0m\u001b[0;34m[\u001b[0m\u001b[0ms\u001b[0m\u001b[0;34m[\u001b[0m\u001b[0;36m0\u001b[0m\u001b[0;34m]\u001b[0m\u001b[0;34m]\u001b[0m \u001b[0;34m=\u001b[0m \u001b[0ms\u001b[0m\u001b[0;34m[\u001b[0m\u001b[0;36m1\u001b[0m\u001b[0;34m]\u001b[0m\u001b[0;34m\u001b[0m\u001b[0;34m\u001b[0m\u001b[0m\n\u001b[1;32m     14\u001b[0m \u001b[0;34m\u001b[0m\u001b[0m\n\u001b[0;32m---> 15\u001b[0;31m     wordcloud = WordCloud(width=1000,height=400, background_color='lightgrey', \n\u001b[0m\u001b[1;32m     16\u001b[0m                           \u001b[0mmax_words\u001b[0m\u001b[0;34m=\u001b[0m\u001b[0;36m1628\u001b[0m\u001b[0;34m,\u001b[0m\u001b[0mrelative_scaling\u001b[0m\u001b[0;34m=\u001b[0m\u001b[0;36m1\u001b[0m\u001b[0;34m,\u001b[0m\u001b[0;34m\u001b[0m\u001b[0;34m\u001b[0m\u001b[0m\n\u001b[1;32m     17\u001b[0m                           \u001b[0mcolor_func\u001b[0m \u001b[0;34m=\u001b[0m \u001b[0mrandom_color_func\u001b[0m\u001b[0;34m,\u001b[0m\u001b[0;34m\u001b[0m\u001b[0;34m\u001b[0m\u001b[0m\n",
      "\u001b[0;31mNameError\u001b[0m: name 'WordCloud' is not defined"
     ]
    },
    {
     "data": {
      "image/png": "[encoded data removed]",
      "text/plain": [
       "<Figure size 1008x1008 with 1 Axes>"
      ]
     },
     "metadata": {},
     "output_type": "display_data"
    }
   ],
   "source": [
    "\n",
    "def random_color_func(word=None, font_size=None, position=None,\n",
    "                      orientation=None, font_path=None, random_state=None):\n",
    "    h = int(360.0 * tone / 255.0)\n",
    "    s = int(100.0 * 255.0 / 255.0)\n",
    "    l = int(100.0 * float(random_state.randint(70, 120)) / 255.0)\n",
    "    return \"hsl({}, {}%, {}%)\".format(h, s, l)\n",
    "\n",
    "def make_wordcloud(liste, increment):\n",
    "    ax1 = fig.add_subplot(4,2,increment)\n",
    "    words = dict()\n",
    "    trunc_occurences = liste[0:150]\n",
    "    for s in trunc_occurences:\n",
    "        words[s[0]] = s[1]\n",
    "    \n",
    "    wordcloud = WordCloud(width=1000,height=400, background_color='lightgrey', \n",
    "                          max_words=1628,relative_scaling=1,\n",
    "                          color_func = random_color_func,\n",
    "                          normalize_plurals=False)\n",
    "    wordcloud.generate_from_frequencies(words)\n",
    "    ax1.imshow(wordcloud, interpolation=\"bilinear\")\n",
    "    ax1.axis('off')\n",
    "    plt.title('cluster n{}'.format(increment-1))\n",
    "\n",
    "fig = plt.figure(1, figsize=(14,14))\n",
    "color = [0, 160, 130, 95, 280, 40, 330, 110, 25]\n",
    "for i in range(n_clusters):\n",
    "    list_cluster_occurences = occurence[i]\n",
    "\n",
    "    tone = color[i] # define the color of the words\n",
    "    liste = []\n",
    "    for key, value in list_cluster_occurences.items():\n",
    "        liste.append([key, value])\n",
    "    liste.sort(key = lambda x:x[1], reverse = True)\n",
    "    make_wordcloud(liste, i+1)            "
   ]
  },
  {
   "cell_type": "markdown",
   "metadata": {},
   "source": [
    "From this representation, we can see that for example, one of the clusters contains objects that could be associated with gifts (keywords: Christmas, packaging, card, ...). Another cluster would rather contain luxury items and jewelry (keywords: necklace, bracelet, lace, silver, ...). Nevertheless, it can also be observed that many words appear in various clusters and it is therefore difficult to clearly distinguish them.\n",
    "\n",
    "** c: _Principal Component Analysis_ **\n",
    "\n",
    "In order to ensure that these clusters are truly distinct, I look at their composition. Given the large number of variables of the initial matrix, I first perform a PCA:"
   ]
  },
  {
   "cell_type": "code",
   "execution_count": null,
   "metadata": {
    "ExecuteTime": {
     "end_time": "2021-04-28T19:40:14.392246Z",
     "start_time": "2021-04-28T19:28:23.642Z"
    },
    "_cell_guid": "85af75c5-bf90-4b8c-9687-caff723d0027",
    "_kg_hide-input": true,
    "_uuid": "33859d205bcf40477d166b679fb97996ba2d5f48"
   },
   "outputs": [],
   "source": [
    "pca = PCA()\n",
    "pca.fit(matrix)\n",
    "pca_samples = pca.transform(matrix)"
   ]
  },
  {
   "cell_type": "markdown",
   "metadata": {},
   "source": [
    "and then check for the amount of variance explained by each component:"
   ]
  },
  {
   "cell_type": "code",
   "execution_count": null,
   "metadata": {
    "ExecuteTime": {
     "end_time": "2021-04-28T19:40:14.394583Z",
     "start_time": "2021-04-28T19:28:23.646Z"
    },
    "_cell_guid": "41cd8738-4923-43cd-b26a-fba6d53070e8",
    "_kg_hide-input": true,
    "_uuid": "abce52d76e801aa6197603925618fb032aec78af"
   },
   "outputs": [],
   "source": [
    "fig, ax = plt.subplots(figsize=(14, 5))\n",
    "sns.set(font_scale=1)\n",
    "plt.step(range(matrix.shape[1]), pca.explained_variance_ratio_.cumsum(), where='mid',\n",
    "         label='cumulative explained variance')\n",
    "sns.barplot(np.arange(1,matrix.shape[1]+1), pca.explained_variance_ratio_, alpha=0.5, color = 'g',\n",
    "            label='individual explained variance')\n",
    "plt.xlim(0, 100)\n",
    "\n",
    "ax.set_xticklabels([s if int(s.get_text())%2 == 0 else '' for s in ax.get_xticklabels()])\n",
    "\n",
    "plt.ylabel('Explained variance', fontsize = 14)\n",
    "plt.xlabel('Principal components', fontsize = 14)\n",
    "plt.legend(loc='upper left', fontsize = 13);"
   ]
  },
  {
   "cell_type": "markdown",
   "metadata": {},
   "source": [
    "We see that the number of components required to explain the data is extremely important: we need more than 100 components to explain 90% of the variance of the data. In practice, I decide to keep only a limited number of components since this decomposition is only performed to visualize the data:\n"
   ]
  },
  {
   "cell_type": "code",
   "execution_count": null,
   "metadata": {
    "ExecuteTime": {
     "end_time": "2021-04-28T19:40:14.400385Z",
     "start_time": "2021-04-28T19:28:23.650Z"
    },
    "_cell_guid": "0e49b019-d1b7-4815-8c5e-7cf27fa5b5b2",
    "_kg_hide-input": true,
    "_uuid": "fb0afe8523c2634860fdaf67d734c1dc0897c4c0"
   },
   "outputs": [],
   "source": [
    "pca = PCA(n_components=50)\n",
    "matrix_9D = pca.fit_transform(matrix)\n",
    "mat = pd.DataFrame(matrix_9D)\n",
    "mat['cluster'] = pd.Series(clusters)"
   ]
  },
  {
   "cell_type": "code",
   "execution_count": null,
   "metadata": {
    "ExecuteTime": {
     "end_time": "2021-04-28T19:40:14.413423Z",
     "start_time": "2021-04-28T19:28:23.654Z"
    },
    "_cell_guid": "675cc670-4512-4983-8b58-e82f3cf2bf3d",
    "_kg_hide-input": true,
    "_uuid": "b9d872fa5038458f3424dfc585a5a823efc7ff7f"
   },
   "outputs": [],
   "source": [
    "import matplotlib.patches as mpatches\n",
    "\n",
    "sns.set_style(\"white\")\n",
    "sns.set_context(\"notebook\", font_scale=1, rc={\"lines.linewidth\": 2.5})\n",
    "\n",
    "LABEL_COLOR_MAP = {0:'r', 1:'gold', 2:'b', 3:'k', 4:'c', 5:'g'}\n",
    "label_color = [LABEL_COLOR_MAP[l] for l in mat['cluster']]\n",
    "\n",
    "fig = plt.figure(figsize = (12,10))\n",
    "increment = 0\n",
    "for ix in range(4):\n",
    "    for iy in range(ix+1, 4):    \n",
    "        increment += 1\n",
    "        ax = fig.add_subplot(3,3,increment)\n",
    "        ax.scatter(mat[ix], mat[iy], c= label_color, alpha=0.4) \n",
    "        plt.ylabel('PCA {}'.format(iy+1), fontsize = 12)\n",
    "        plt.xlabel('PCA {}'.format(ix+1), fontsize = 12)\n",
    "        ax.yaxis.grid(color='lightgray', linestyle=':')\n",
    "        ax.xaxis.grid(color='lightgray', linestyle=':')\n",
    "        ax.spines['right'].set_visible(False)\n",
    "        ax.spines['top'].set_visible(False)\n",
    "        \n",
    "        if increment == 9: break\n",
    "    if increment == 9: break\n",
    "        \n",
    "\n",
    "comp_handler = []\n",
    "for i in range(5):\n",
    "    comp_handler.append(mpatches.Patch(color = LABEL_COLOR_MAP[i], label = i))\n",
    "\n",
    "plt.legend(handles=comp_handler, bbox_to_anchor=(1.1, 0.97), \n",
    "           title='Cluster',\n",
    "           shadow = True, frameon = True, framealpha = 1,fontsize = 13, \n",
    "           bbox_transform = plt.gcf().transFigure) #facecolor = 'lightgrey',\n",
    "\n",
    "plt.tight_layout()"
   ]
  },
  {
   "cell_type": "markdown",
   "metadata": {},
   "source": [
    "## Customer categories\n",
    "\n",
    "Steps for generatin\n",
    "\n",
    "* Formatting data \n",
    "  * Grouping products  \n",
    "  * Splitting of the dataset \n",
    "  * Grouping orders  \n",
    "* Creating customer categories \n",
    "  * Data encoding \n",
    "  * Creating categories \n",
    "\n"
   ]
  },
  {
   "cell_type": "markdown",
   "metadata": {},
   "source": [
    "### Formatting data\n",
    "\n",
    "In the previous section, the different products were grouped in five clusters. In order to prepare the rest of the analysis, a first step consists in introducing this information into the dataframe. To do this, I create the categorical variable **categ_product** where I indicate the cluster of each product :"
   ]
  },
  {
   "cell_type": "code",
   "execution_count": null,
   "metadata": {
    "ExecuteTime": {
     "end_time": "2021-04-28T19:40:14.416776Z",
     "start_time": "2021-04-28T19:28:23.659Z"
    },
    "_cell_guid": "b66c0817-22c1-42cf-b944-8e3db918a671",
    "_kg_hide-input": true,
    "_uuid": "c030102cce28bbf7e268ed40b0388017cd15df8f"
   },
   "outputs": [],
   "source": [
    "corresp = dict()\n",
    "for key, val in zip (liste_produits, clusters):\n",
    "    corresp[key] = val \n",
    "\n",
    "df_cleaned['categ_product'] = df_cleaned.loc[:, 'Description'].map(corresp)\n",
    "df_cleaned[['InvoiceNo', 'Description', \n",
    "            'categ_product']][:10]"
   ]
  },
  {
   "cell_type": "markdown",
   "metadata": {},
   "source": [
    "#### Grouping products\n",
    "\n",
    "In a second step, I decide to create the **categ_N** variables (with $ N \\in [0: 4]$) that contains the amount spent in each product category:"
   ]
  },
  {
   "cell_type": "code",
   "execution_count": null,
   "metadata": {
    "ExecuteTime": {
     "end_time": "2021-04-28T19:40:14.419607Z",
     "start_time": "2021-04-28T19:28:23.663Z"
    },
    "_cell_guid": "882978a7-8d65-468e-982a-dd689515d415",
    "_kg_hide-input": true,
    "_uuid": "7b29ea4de78cdf757e031a0d810b24c4a3641057"
   },
   "outputs": [],
   "source": [
    "for i in range(5):\n",
    "    col = 'categ_{}'.format(i)        \n",
    "    df_temp = df_cleaned[df_cleaned['categ_product'] == i]\n",
    "    price_temp = df_temp['UnitPrice'] * (df_temp['Quantity'] - df_temp['QuantityCanceled'])\n",
    "    price_temp = price_temp.apply(lambda x:x if x > 0 else 0)\n",
    "    df_cleaned.loc[:, col] = price_temp\n",
    "    df_cleaned[col].fillna(0, inplace = True)\n",
    "\n",
    "\n",
    "df_cleaned[['InvoiceNo', 'Description', \n",
    "            'categ_product', 'categ_0', 'categ_1', 'categ_2', 'categ_3','categ_4']][:10]"
   ]
  },
  {
   "cell_type": "markdown",
   "metadata": {},
   "source": [
    "Up to now, the information related to a single order was split over several lines of the dataframe (one line per product). I decide to collect the information related to a particular order and put in in a single entry. I therefore create a new dataframe that contains, for each order, the amount of the basket, as well as the way it is distributed over the 5 categories of products:"
   ]
  },
  {
   "cell_type": "code",
   "execution_count": null,
   "metadata": {
    "ExecuteTime": {
     "end_time": "2021-04-28T19:40:14.422672Z",
     "start_time": "2021-04-28T19:28:23.668Z"
    },
    "_cell_guid": "9a5249e1-7ac8-43f9-a759-db4df4934e71",
    "_kg_hide-input": true,
    "_uuid": "9d0c9edb309503999f38ccc40fd09d1a311a5019"
   },
   "outputs": [],
   "source": [
    "\n",
    "# sum of purchases / user & order\n",
    "temp = df_cleaned.groupby(by=['CustomerID', 'InvoiceNo'], as_index=False)['TotalPrice'].sum()\n",
    "basket_price = temp.rename(columns = {'TotalPrice':'Basket Price'})\n",
    "\n",
    "# percentage of the price of the order / product category\n",
    "for i in range(5):\n",
    "    col = 'categ_{}'.format(i) \n",
    "    temp = df_cleaned.groupby(by=['CustomerID', 'InvoiceNo'], as_index=False)[col].sum()\n",
    "    basket_price.loc[:, col] = temp \n",
    "\n",
    "# date of the order\n",
    "\n",
    "df_cleaned['InvoiceDate_int'] = df_cleaned['InvoiceDate'].astype('int64')\n",
    "temp = df_cleaned.groupby(by=['CustomerID', 'InvoiceNo'], as_index=False)['InvoiceDate_int'].mean()\n",
    "df_cleaned.drop('InvoiceDate_int', axis = 1, inplace = True)\n",
    "basket_price.loc[:, 'InvoiceDate'] = pd.to_datetime(temp['InvoiceDate_int'])\n",
    "\n",
    "# selection of significant entries:\n",
    "basket_price = basket_price[basket_price['Basket Price'] > 0]\n",
    "basket_price.sort_values('CustomerID', ascending = True)[:5]"
   ]
  },
  {
   "cell_type": "markdown",
   "metadata": {},
   "source": [
    "#### Splitting of data over time\n",
    "\n",
    "The dataframe `basket_price` contains information for a period of 12 months. Later, one of the objectives will be to develop a model capable of characterizing and anticipating the habits of the customers visiting the site and this, from their first visit. In order to be able to test the model in a realistic way, I split the data set by retaining the first 10 months to develop the model and the following two months to test it:"
   ]
  },
  {
   "cell_type": "code",
   "execution_count": null,
   "metadata": {
    "ExecuteTime": {
     "end_time": "2021-04-28T19:40:14.424908Z",
     "start_time": "2021-04-28T19:28:23.672Z"
    },
    "_cell_guid": "c30fa4af-6617-4e25-b297-23efae5e1dcb",
    "_kg_hide-input": true,
    "_uuid": "7be642cc67d95c7b149747f66a8ba8845a17350e"
   },
   "outputs": [],
   "source": [
    "print(basket_price['InvoiceDate'].min(), '->',  basket_price['InvoiceDate'].max())"
   ]
  },
  {
   "cell_type": "code",
   "execution_count": null,
   "metadata": {
    "ExecuteTime": {
     "end_time": "2021-04-28T19:40:14.427079Z",
     "start_time": "2021-04-28T19:28:23.675Z"
    },
    "_cell_guid": "29948719-cecf-48d3-ab66-ca76214b058a",
    "_kg_hide-input": true,
    "_uuid": "854a1781838e9d4f9e2a27e6a0b65c5e86d7a1b0"
   },
   "outputs": [],
   "source": [
    "date_cut_off = datetime.datetime(2011,10,1)\n",
    "set_entrainement = basket_price[basket_price['InvoiceDate'] < date_cut_off]\n",
    "set_test         = basket_price[basket_price['InvoiceDate'] >= date_cut_off]\n",
    "basket_price = set_entrainement.copy(deep = True)"
   ]
  },
  {
   "cell_type": "markdown",
   "metadata": {},
   "source": [
    "#### Consumer Order Combinations\n",
    "\n",
    "In a second step, I group together the different entries that correspond to the same user. I thus determine the number of purchases made by the user, as well as the minimum, maximum, average amounts and the total amount spent during all the visits:"
   ]
  },
  {
   "cell_type": "code",
   "execution_count": null,
   "metadata": {
    "ExecuteTime": {
     "end_time": "2021-04-28T19:40:14.429780Z",
     "start_time": "2021-04-28T19:28:23.679Z"
    },
    "_cell_guid": "876435e3-49c7-4f98-a58f-55d8f0620ef8",
    "_kg_hide-input": true,
    "_uuid": "a8144451cb606fde4e691486ea9b9d2ccbeae7b9"
   },
   "outputs": [],
   "source": [
    "# of visits and stats on cart amount / users\n",
    "transactions_per_user=basket_price.groupby(by=['CustomerID'])['Basket Price'].agg(['count','min',\n",
    "                                                                                   'max','mean','sum'])\n",
    "for i in range(5):\n",
    "    col = 'categ_{}'.format(i)\n",
    "    transactions_per_user.loc[:,col] = basket_price.groupby(by=['CustomerID'])[col].sum() /\\\n",
    "                                            transactions_per_user['sum']*100\n",
    "\n",
    "transactions_per_user.reset_index(drop = False, inplace = True)\n",
    "basket_price.groupby(by=['CustomerID'])['categ_0'].sum()\n",
    "transactions_per_user.sort_values('CustomerID', ascending = True)[:5]"
   ]
  },
  {
   "cell_type": "markdown",
   "metadata": {},
   "source": [
    "Finally, I define two additional variables that give the number of days elapsed since the first purchase (** FirstPurchase **) and the number of days since the last purchase (** LastPurchase **):"
   ]
  },
  {
   "cell_type": "code",
   "execution_count": null,
   "metadata": {
    "ExecuteTime": {
     "end_time": "2021-04-28T19:40:14.433505Z",
     "start_time": "2021-04-28T19:28:23.684Z"
    },
    "_cell_guid": "60a47c3b-b36a-460a-835b-7f6d3c7af48c",
    "_kg_hide-input": true,
    "_uuid": "29dab7aeb0f6d8d1e898b9d72efa2a6e07f1d3e0",
    "scrolled": true
   },
   "outputs": [],
   "source": [
    "last_date = basket_price['InvoiceDate'].max().date()\n",
    "\n",
    "first_registration = pd.DataFrame(basket_price.groupby(by=['CustomerID'])['InvoiceDate'].min())\n",
    "last_purchase      = pd.DataFrame(basket_price.groupby(by=['CustomerID'])['InvoiceDate'].max())\n",
    "\n",
    "test  = first_registration.applymap(lambda x:(last_date - x.date()).days)\n",
    "test2 = last_purchase.applymap(lambda x:(last_date - x.date()).days)\n",
    "\n",
    "transactions_per_user.loc[:, 'LastPurchase'] = test2.reset_index(drop = False)['InvoiceDate']\n",
    "transactions_per_user.loc[:, 'FirstPurchase'] = test.reset_index(drop = False)['InvoiceDate']\n",
    "\n",
    "transactions_per_user[:5]"
   ]
  },
  {
   "cell_type": "markdown",
   "metadata": {},
   "source": [
    "A customer category of particular interest is that of customers who make only one purchase. One of the objectives may be, for example, to target these customers in order to retain them. In part, I find that this type of customer represents 1/3 of the customers listed:"
   ]
  },
  {
   "cell_type": "code",
   "execution_count": null,
   "metadata": {
    "ExecuteTime": {
     "end_time": "2021-04-28T19:40:14.438107Z",
     "start_time": "2021-04-28T19:28:23.688Z"
    },
    "_cell_guid": "f0a8717e-bf13-4847-a2d8-d5c518ef7580",
    "_kg_hide-input": true,
    "_uuid": "27a45dcd6d0ac2382f07ef6b091a50fc7006a389"
   },
   "outputs": [],
   "source": [
    "n1 = transactions_per_user[transactions_per_user['count'] == 1].shape[0]\n",
    "n2 = transactions_per_user.shape[0]\n",
    "print(\"No. customers with single purchase: {:<2}/{:<5} ({:<2.2f}%)\".format(n1,n2,n1/n2*100))"
   ]
  },
  {
   "cell_type": "markdown",
   "metadata": {},
   "source": [
    "---\n",
    "### Creation of customers categories"
   ]
  },
  {
   "cell_type": "markdown",
   "metadata": {},
   "source": [
    "#### Data encoding\n",
    "\n",
    "The dataframe `transactions_per_user` contains a summary of all the commands that were made. Each entry in this dataframe corresponds to a particular client. I use this information to characterize the different types of customers and only keep a subset of variables:"
   ]
  },
  {
   "cell_type": "code",
   "execution_count": null,
   "metadata": {
    "ExecuteTime": {
     "end_time": "2021-04-28T19:40:14.441652Z",
     "start_time": "2021-04-28T19:28:23.693Z"
    },
    "_cell_guid": "cdc3d67f-1337-4cf6-8a36-7b99d4adc160",
    "_kg_hide-input": true,
    "_uuid": "1769df5bd3f987760e0493c6979c9031e18cd47e"
   },
   "outputs": [],
   "source": [
    "list_cols = ['count','min','max','mean','categ_0','categ_1','categ_2','categ_3','categ_4']\n",
    "#_____________________________________________________________\n",
    "selected_customers = transactions_per_user.copy(deep = True)\n",
    "matrix = np.asmatrix(selected_customers[list_cols])"
   ]
  },
  {
   "cell_type": "markdown",
   "metadata": {},
   "source": [
    "In practice, the different variables I selected have quite different ranges of variation and before continuing the analysis, I  create a matrix where these data are standardized:"
   ]
  },
  {
   "cell_type": "code",
   "execution_count": null,
   "metadata": {
    "ExecuteTime": {
     "end_time": "2021-04-28T19:40:14.447269Z",
     "start_time": "2021-04-28T19:28:23.697Z"
    },
    "_cell_guid": "84be0db9-a24a-4b9b-b541-e1437404ff37",
    "_kg_hide-input": true,
    "_uuid": "5e15c98b0da14a1fe5473ca2fa6c5722968386b6"
   },
   "outputs": [],
   "source": [
    "scaler = StandardScaler()\n",
    "scaler.fit(matrix)\n",
    "print('variables mean values: \\n' + 90*'-' + '\\n' , scaler.mean_)\n",
    "scaled_matrix = scaler.transform(matrix)"
   ]
  },
  {
   "cell_type": "markdown",
   "metadata": {},
   "source": [
    "In the following, I will create clusters of customers. In practice, before creating these clusters, it is interesting to define a base of smaller dimension allowing to describe the `scaled_matrix` matrix. In this case, I will use this base in order to create a representation of the different clusters and thus verify the quality of the separation of the different groups. I therefore perform a PCA beforehand:"
   ]
  },
  {
   "cell_type": "code",
   "execution_count": null,
   "metadata": {
    "ExecuteTime": {
     "end_time": "2021-04-28T19:40:14.451541Z",
     "start_time": "2021-04-28T19:28:23.701Z"
    },
    "_cell_guid": "302061b0-4e19-4b5b-a969-1f45c27873e1",
    "_kg_hide-input": true,
    "_uuid": "30b6a47f96e223efeb0ab49517b38c192627927f"
   },
   "outputs": [],
   "source": [
    "pca = PCA()\n",
    "pca.fit(scaled_matrix)\n",
    "pca_samples = pca.transform(scaled_matrix)"
   ]
  },
  {
   "cell_type": "markdown",
   "metadata": {},
   "source": [
    "and I represent the amount of variance explained by each of the components:"
   ]
  },
  {
   "cell_type": "code",
   "execution_count": null,
   "metadata": {
    "ExecuteTime": {
     "end_time": "2021-04-28T19:40:14.455444Z",
     "start_time": "2021-04-28T19:28:23.705Z"
    },
    "_cell_guid": "ed6ab99d-fee5-44c3-958c-58b786263e82",
    "_kg_hide-input": true,
    "_uuid": "bb95db84567cb2a3a32652bcf2b3ea5c14b5b550"
   },
   "outputs": [],
   "source": [
    "fig, ax = plt.subplots(figsize=(14, 5))\n",
    "sns.set(font_scale=1)\n",
    "plt.step(range(matrix.shape[1]), pca.explained_variance_ratio_.cumsum(), where='mid',\n",
    "         label='cumulative explained variance')\n",
    "sns.barplot(np.arange(1,matrix.shape[1]+1), pca.explained_variance_ratio_, alpha=0.5, color = 'g',\n",
    "            label='individual explained variance')\n",
    "plt.xlim(0, 10)\n",
    "\n",
    "ax.set_xticklabels([s if int(s.get_text())%2 == 0 else '' for s in ax.get_xticklabels()])\n",
    "\n",
    "plt.ylabel('Explained variance', fontsize = 14)\n",
    "plt.xlabel('Principal components', fontsize = 14)\n",
    "plt.legend(loc='best', fontsize = 13);"
   ]
  },
  {
   "cell_type": "markdown",
   "metadata": {},
   "source": [
    "-----\n",
    "#### Creating customer categories\n",
    "\n",
    "At this point, I define clusters of clients from the standardized matrix that was defined earlier and using the `k-means` algorithm from` scikit-learn`. I choose the number of clusters based on the silhouette score and I find that the best score is obtained with 11 clusters:"
   ]
  },
  {
   "cell_type": "code",
   "execution_count": null,
   "metadata": {
    "ExecuteTime": {
     "end_time": "2021-04-28T19:40:14.458112Z",
     "start_time": "2021-04-28T19:28:23.709Z"
    },
    "_cell_guid": "ce1adb5f-a0cf-4af4-99fa-585fa71cf89f",
    "_kg_hide-input": true,
    "_uuid": "09711facb0d6dd1e4027724a55b8a5fa0155b616"
   },
   "outputs": [],
   "source": [
    "n_clusters = 11\n",
    "kmeans = KMeans(init='k-means++', n_clusters = n_clusters, n_init=100)\n",
    "kmeans.fit(scaled_matrix)\n",
    "clusters_clients = kmeans.predict(scaled_matrix)\n",
    "silhouette_avg = silhouette_score(scaled_matrix, clusters_clients)\n",
    "print('silhouette score: {:<.3f}'.format(silhouette_avg))"
   ]
  },
  {
   "cell_type": "markdown",
   "metadata": {},
   "source": [
    "At first, I look at the number of customers in each cluster:"
   ]
  },
  {
   "cell_type": "code",
   "execution_count": null,
   "metadata": {
    "ExecuteTime": {
     "end_time": "2021-04-28T19:40:14.460863Z",
     "start_time": "2021-04-28T19:28:23.713Z"
    },
    "_cell_guid": "7e64fcb6-4827-4bb9-883e-f31e9c595dba",
    "_kg_hide-input": true,
    "_uuid": "b1f770e4ac40cc0e868efb12f895653fb5127599",
    "scrolled": true
   },
   "outputs": [],
   "source": [
    "pd.DataFrame(pd.Series(clusters_clients).value_counts(), columns = ['number of clients']).T"
   ]
  },
  {
   "cell_type": "markdown",
   "metadata": {},
   "source": [
    "** a / _Report via the PCA_ **\n",
    "\n",
    "There is a certain disparity in the sizes of different groups that have been created. Hence I will now try to understand the content of these clusters in order to validate (or not) this particular separation. At first, I use the result of the PCA:"
   ]
  },
  {
   "cell_type": "code",
   "execution_count": null,
   "metadata": {
    "ExecuteTime": {
     "end_time": "2021-04-28T19:40:14.464495Z",
     "start_time": "2021-04-28T19:28:23.718Z"
    },
    "_cell_guid": "051ee4e8-78a1-48d9-aa43-84e089a57df3",
    "_kg_hide-input": true,
    "_uuid": "716227b8a446ac77c9397893964c782333a02e6a"
   },
   "outputs": [],
   "source": [
    "pca = PCA(n_components=6)\n",
    "matrix_3D = pca.fit_transform(scaled_matrix)\n",
    "mat = pd.DataFrame(matrix_3D)\n",
    "mat['cluster'] = pd.Series(clusters_clients)"
   ]
  },
  {
   "cell_type": "markdown",
   "metadata": {},
   "source": [
    "in order to create a representation of the various clusters:"
   ]
  },
  {
   "cell_type": "code",
   "execution_count": null,
   "metadata": {
    "ExecuteTime": {
     "end_time": "2021-04-28T19:40:14.467280Z",
     "start_time": "2021-04-28T19:28:23.722Z"
    },
    "_cell_guid": "6e2ff63a-1bfe-4c7a-b0e4-7fa387e2c560",
    "_kg_hide-input": true,
    "_uuid": "cececaffe4efaff3333c64426b028b793cc677b5"
   },
   "outputs": [],
   "source": [
    "import matplotlib.patches as mpatches\n",
    "\n",
    "sns.set_style(\"white\")\n",
    "sns.set_context(\"notebook\", font_scale=1, rc={\"lines.linewidth\": 2.5})\n",
    "\n",
    "LABEL_COLOR_MAP = {0:'r', 1:'tan', 2:'b', 3:'k', 4:'c', 5:'g', 6:'deeppink', 7:'skyblue', 8:'darkcyan',\n",
    "                   9:'orange',\n",
    "                   10:'yellow', 11:'tomato', 12:'seagreen'}\n",
    "label_color = [LABEL_COLOR_MAP[l] for l in mat['cluster']]\n",
    "\n",
    "fig = plt.figure(figsize = (12,10))\n",
    "increment = 0\n",
    "for ix in range(6):\n",
    "    for iy in range(ix+1, 6):   \n",
    "        increment += 1\n",
    "        ax = fig.add_subplot(4,3,increment)\n",
    "        ax.scatter(mat[ix], mat[iy], c= label_color, alpha=0.5) \n",
    "        plt.ylabel('PCA {}'.format(iy+1), fontsize = 12)\n",
    "        plt.xlabel('PCA {}'.format(ix+1), fontsize = 12)\n",
    "        ax.yaxis.grid(color='lightgray', linestyle=':')\n",
    "        ax.xaxis.grid(color='lightgray', linestyle=':')\n",
    "        ax.spines['right'].set_visible(False)\n",
    "        ax.spines['top'].set_visible(False)\n",
    "        \n",
    "        if increment == 12: break\n",
    "    if increment == 12: break\n",
    "        \n",
    "#_______________________________________________\n",
    "# I set the legend: abreviation -> airline name\n",
    "comp_handler = []\n",
    "for i in range(n_clusters):\n",
    "    comp_handler.append(mpatches.Patch(color = LABEL_COLOR_MAP[i], label = i))\n",
    "\n",
    "plt.legend(handles=comp_handler, bbox_to_anchor=(1.1, 0.9), \n",
    "           title='Cluster', \n",
    "           shadow = True, frameon = True, framealpha = 1,\n",
    "           fontsize = 13, bbox_transform = plt.gcf().transFigure) #facecolor = 'lightgrey',\n",
    "\n",
    "plt.tight_layout()"
   ]
  },
  {
   "cell_type": "markdown",
   "metadata": {},
   "source": [
    "From this representation, it can be seen, for example, that the first principal component allow to separate the tiniest clusters from the rest. More generally, we see that there is always a representation in which two clusters will appear to be distinct.\n",
    "\n",
    "** b/ _Score of the silhouette intra-cluster_ **\n",
    "\n",
    "As with product categories, another way to look at the quality of the separation is to look at silouhette scores within different clusters:"
   ]
  },
  {
   "cell_type": "code",
   "execution_count": null,
   "metadata": {
    "ExecuteTime": {
     "end_time": "2021-04-28T19:40:14.470910Z",
     "start_time": "2021-04-28T19:28:23.726Z"
    },
    "_cell_guid": "89a83e55-2681-4c31-9e39-52fe2cd0e5cf",
    "_kg_hide-input": true,
    "_uuid": "3a207d8cfdc08bebeffb5cd8ddb00dfb959efb4a"
   },
   "outputs": [],
   "source": [
    "sample_silhouette_values = silhouette_samples(scaled_matrix, clusters_clients)\n",
    "#____________________________________\n",
    "# define individual silhouette scores \n",
    "sample_silhouette_values = silhouette_samples(scaled_matrix, clusters_clients)\n",
    "#__________________\n",
    "# and do the graph\n",
    "graph_component_silhouette(n_clusters, [-0.15, 0.55], len(scaled_matrix), sample_silhouette_values, \n",
    "                           clusters_clients)"
   ]
  },
  {
   "cell_type": "markdown",
   "metadata": {},
   "source": [
    "** c/ _Customers morphotype_**\n",
    "\n",
    "At this stage, I have verified that the different clusters are indeed disjoint (at least, in a global way). It remains to understand the habits of the customers in each cluster. To do so, I start by adding to the `selected_customers` dataframe a variable that defines the cluster to which each client belongs:"
   ]
  },
  {
   "cell_type": "code",
   "execution_count": null,
   "metadata": {
    "ExecuteTime": {
     "end_time": "2021-04-28T19:40:14.477686Z",
     "start_time": "2021-04-28T19:28:23.730Z"
    },
    "_cell_guid": "1c45a7fd-b564-4595-b725-0d0ae03a25e7",
    "_uuid": "52f45c0a955a33a52c812aaf9e60e5a82f5bd2da"
   },
   "outputs": [],
   "source": [
    "selected_customers.loc[:, 'cluster'] = clusters_clients"
   ]
  },
  {
   "cell_type": "markdown",
   "metadata": {},
   "source": [
    "Then, I average the contents of this dataframe by first selecting the different groups of clients. This gives access to, for example, the average baskets price, the number of visits or the total sums spent by the clients of the different clusters. I also determine the number of clients in each group (variable ** size **):"
   ]
  },
  {
   "cell_type": "code",
   "execution_count": null,
   "metadata": {
    "ExecuteTime": {
     "end_time": "2021-04-28T19:40:14.481116Z",
     "start_time": "2021-04-28T19:28:23.734Z"
    },
    "_cell_guid": "edaa1b78-74be-44cf-952d-f5148824b5d8",
    "_kg_hide-input": true,
    "_uuid": "0fb5e92a263ea5290cfe72fb03257ea6eff632ce",
    "scrolled": true
   },
   "outputs": [],
   "source": [
    "merged_df = pd.DataFrame()\n",
    "for i in range(n_clusters):\n",
    "    test = pd.DataFrame(selected_customers[selected_customers['cluster'] == i].mean())\n",
    "    test = test.T.set_index('cluster', drop = True)\n",
    "    test['size'] = selected_customers[selected_customers['cluster'] == i].shape[0]\n",
    "    merged_df = pd.concat([merged_df, test])\n",
    "#_____________________________________________________\n",
    "merged_df.drop('CustomerID', axis = 1, inplace = True)\n",
    "print('number of customers:', merged_df['size'].sum())\n",
    "\n",
    "merged_df = merged_df.sort_values('sum')"
   ]
  },
  {
   "cell_type": "markdown",
   "metadata": {},
   "source": [
    "Finally, I re-organize the content of the dataframe by ordering the different clusters: first, in relation to the amount wpsent in each product category and then, according to the total amount spent:"
   ]
  },
  {
   "cell_type": "code",
   "execution_count": null,
   "metadata": {
    "ExecuteTime": {
     "end_time": "2021-04-28T19:40:14.484871Z",
     "start_time": "2021-04-28T19:28:23.739Z"
    },
    "_cell_guid": "9e510c5d-cfa4-4d50-ad2e-93fa01cb319e",
    "_kg_hide-input": true,
    "_uuid": "5c6079b1b9dcb0d894e406255d351680219a5b35"
   },
   "outputs": [],
   "source": [
    "liste_index = []\n",
    "for i in range(5):\n",
    "    column = 'categ_{}'.format(i)\n",
    "    liste_index.append(merged_df[merged_df[column] > 45].index.values[0])\n",
    "\n",
    "liste_index_reordered = liste_index\n",
    "liste_index_reordered += [ s for s in merged_df.index if s not in liste_index]\n",
    "\n",
    "merged_df = merged_df.reindex(index = liste_index_reordered)\n",
    "merged_df = merged_df.reset_index(drop = False)\n",
    "display(merged_df[['cluster', 'count', 'min', 'max', 'mean', 'sum', 'categ_0',\n",
    "                   'categ_1', 'categ_2', 'categ_3', 'categ_4', 'size']])"
   ]
  },
  {
   "cell_type": "markdown",
   "metadata": {},
   "source": [
    "** d / _Customers morphology garphical representation_ **\n",
    "\n",
    "Finally, I created a representation of the different morphotypes. To do this, I define a class to create \"Radar Charts\" (which has been adapted from this [kernel](https://www.kaggle.com/yassineghouzam/don-t-know-why-employees-leave -read-this)):"
   ]
  },
  {
   "cell_type": "code",
   "execution_count": null,
   "metadata": {
    "ExecuteTime": {
     "end_time": "2021-04-28T19:40:14.487647Z",
     "start_time": "2021-04-28T19:28:23.743Z"
    },
    "_cell_guid": "e544d9cd-9589-46e8-9af5-3ad59a193b6b",
    "_kg_hide-input": true,
    "_uuid": "3d7b1bbb5feb7c4e5ab1e48a27104b5fa51cbac4"
   },
   "outputs": [],
   "source": [
    "def _scale_data(data, ranges):\n",
    "    (x1, x2) = ranges[0]\n",
    "    d = data[0]\n",
    "    return [(d - y1) / (y2 - y1) * (x2 - x1) + x1 for d, (y1, y2) in zip(data, ranges)]\n",
    "\n",
    "class RadarChart():\n",
    "    def __init__(self, fig, location, sizes, variables, ranges, n_ordinate_levels = 6):\n",
    "\n",
    "        angles = np.arange(0, 360, 360./len(variables))\n",
    "\n",
    "        ix, iy = location[:] ; size_x, size_y = sizes[:]\n",
    "        \n",
    "        axes = [fig.add_axes([ix, iy, size_x, size_y], polar = True, \n",
    "        label = \"axes{}\".format(i)) for i in range(len(variables))]\n",
    "\n",
    "        _, text = axes[0].set_thetagrids(angles, labels = variables)\n",
    "        \n",
    "        for txt, angle in zip(text, angles):\n",
    "            if angle > -1 and angle < 181:\n",
    "                txt.set_rotation(angle - 90)\n",
    "            else:\n",
    "                txt.set_rotation(angle - 270)\n",
    "        \n",
    "        for ax in axes[1:]:\n",
    "            ax.patch.set_visible(False)\n",
    "            ax.xaxis.set_visible(False)\n",
    "            ax.grid(\"off\")\n",
    "        \n",
    "        for i, ax in enumerate(axes):\n",
    "            grid = np.linspace(*ranges[i],num = n_ordinate_levels)\n",
    "            grid_label = [\"\"]+[\"{:.0f}\".format(x) for x in grid[1:-1]]\n",
    "            ax.set_rgrids(grid, labels = grid_label, angle = angles[i])\n",
    "            ax.set_ylim(*ranges[i])\n",
    "        \n",
    "        self.angle = np.deg2rad(np.r_[angles, angles[0]])\n",
    "        self.ranges = ranges\n",
    "        self.ax = axes[0]\n",
    "                \n",
    "    def plot(self, data, *args, **kw):\n",
    "        sdata = _scale_data(data, self.ranges)\n",
    "        self.ax.plot(self.angle, np.r_[sdata, sdata[0]], *args, **kw)\n",
    "\n",
    "    def fill(self, data, *args, **kw):\n",
    "        sdata = _scale_data(data, self.ranges)\n",
    "        self.ax.fill(self.angle, np.r_[sdata, sdata[0]], *args, **kw)\n",
    "\n",
    "    def legend(self, *args, **kw):\n",
    "        self.ax.legend(*args, **kw)\n",
    "        \n",
    "    def title(self, title, *args, **kw):\n",
    "        self.ax.text(0.9, 1, title, transform = self.ax.transAxes, *args, **kw)\n"
   ]
  },
  {
   "cell_type": "markdown",
   "metadata": {},
   "source": [
    "This allows to have a global view of the content of each cluster:"
   ]
  },
  {
   "cell_type": "code",
   "execution_count": null,
   "metadata": {
    "ExecuteTime": {
     "end_time": "2021-04-28T19:40:14.490536Z",
     "start_time": "2021-04-28T19:28:23.748Z"
    },
    "_cell_guid": "d0066031-e494-407f-9e9f-b79167244fd1",
    "_kg_hide-input": true,
    "_uuid": "3074b64fa2e091118783baa4452fe7ccc22c82cb"
   },
   "outputs": [],
   "source": [
    "fig = plt.figure(figsize=(50,50))\n",
    "\n",
    "attributes = ['count', 'mean', 'sum', 'categ_0', 'categ_1', 'categ_2', 'categ_3', 'categ_4']\n",
    "ranges = [[0.01, 10], [0.01, 1500], [0.01, 10000], [0.01, 75], [0.01, 75], [0.01, 75], [0.01, 75], [0.01, 75]]\n",
    "index  = [0, 1, 2, 3, 4, 5, 6, 7, 8, 9, 10, 11, 12]\n",
    "\n",
    "n_groups = n_clusters ; i_cols = 3\n",
    "i_rows = n_groups//i_cols\n",
    "size_x, size_y = (1/i_cols), (1/i_rows)\n",
    "\n",
    "for ind in range(n_clusters):\n",
    "    ix = ind%3 ; iy = i_rows - ind//3\n",
    "    pos_x = ix*(size_x + 0.05) ; pos_y = iy*(size_y + 0.05)            \n",
    "    location = [pos_x, pos_y]  ; sizes = [size_x, size_y] \n",
    "    #______________________________________________________\n",
    "    data = np.array(merged_df.loc[index[ind], attributes])  \n",
    "    #print (data)\n",
    "    radar = RadarChart(fig, location, sizes, attributes, ranges)\n",
    "    radar.plot(data, color = 'b', linewidth=5.0)\n",
    "    radar.fill(data, alpha = 0.2, color = 'b')\n",
    "    radar.title(title = 'cluster n{}'.format(index[ind]), color = 'r')\n",
    "    ind += 1 "
   ]
  },
  {
   "cell_type": "markdown",
   "metadata": {},
   "source": [
    "It can be seen, for example, that the first 5 clusters correspond to a strong preponderance of purchases in a particular category of products. Other clusters will differ from basket averages (** mean **), the total sum spent by the clients (** sum **) or the total number of visits made (** count **).\n",
    "\n",
    "____\n",
    "\n",
    "## Classification of customers\n",
    "\n",
    "In this part, the objective will be to adjust a classifier that will classify consumers in the different client categories that were established in the previous section. The objective is to make this classification possible at the first visit. To fulfill this objective, I will test several classifiers implemented in `scikit-learn`. First, in order to simplify their use, I define a class that allows to interface several of the functionalities common to these different classifiers: "
   ]
  },
  {
   "cell_type": "code",
   "execution_count": null,
   "metadata": {
    "ExecuteTime": {
     "end_time": "2021-04-28T19:40:14.494422Z",
     "start_time": "2021-04-28T19:28:23.752Z"
    },
    "_cell_guid": "13991b6e-7070-4e99-985a-8955cd995840",
    "_kg_hide-input": true,
    "_uuid": "33233378b919c14b0b43dd7bb8f5b7023ccb089a"
   },
   "outputs": [],
   "source": [
    "class Class_Fit(object):\n",
    "    def __init__(self, clf, params=None):\n",
    "        if params:            \n",
    "            self.clf = clf(**params)\n",
    "        else:\n",
    "            self.clf = clf()\n",
    "\n",
    "    def train(self, x_train, y_train):\n",
    "        self.clf.fit(x_train, y_train)\n",
    "\n",
    "    def predict(self, x):\n",
    "        return self.clf.predict(x)\n",
    "    \n",
    "    def grid_search(self, parameters, Kfold):\n",
    "        self.grid = GridSearchCV(estimator = self.clf, param_grid = parameters, cv = Kfold)\n",
    "        \n",
    "    def grid_fit(self, X, Y):\n",
    "        self.grid.fit(X, Y)\n",
    "        \n",
    "    def grid_predict(self, X, Y):\n",
    "        self.predictions = self.grid.predict(X)\n",
    "        print(\"Precision: {:.2f} % \".format(100*metrics.accuracy_score(Y, self.predictions)))\n",
    "        "
   ]
  },
  {
   "cell_type": "markdown",
   "metadata": {},
   "source": [
    "Since the goal is to define the class to which a client belongs and this, as soon as its first visit, I only keep the variables that describe the content of the basket, and do not take into account the variables related to the frequency of visits or variations of the basket price over time:"
   ]
  },
  {
   "cell_type": "code",
   "execution_count": null,
   "metadata": {
    "ExecuteTime": {
     "end_time": "2021-04-28T19:40:14.496942Z",
     "start_time": "2021-04-28T19:28:23.756Z"
    }
   },
   "outputs": [],
   "source": [
    "selected_customers.head()"
   ]
  },
  {
   "cell_type": "code",
   "execution_count": null,
   "metadata": {
    "ExecuteTime": {
     "end_time": "2021-04-28T19:40:14.499332Z",
     "start_time": "2021-04-28T19:28:23.760Z"
    },
    "_cell_guid": "5bdd768a-8cb4-49dc-84fc-33c8b84a3362",
    "_kg_hide-input": true,
    "_uuid": "df64b250e989c1a33fe31921ee308056fc5a57b5"
   },
   "outputs": [],
   "source": [
    "columns = ['mean', 'categ_0', 'categ_1', 'categ_2', 'categ_3', 'categ_4' ]\n",
    "X = selected_customers[columns]\n",
    "Y = selected_customers['cluster']"
   ]
  },
  {
   "cell_type": "markdown",
   "metadata": {},
   "source": [
    "Finally, I split the dataset in train and test sets:"
   ]
  },
  {
   "cell_type": "code",
   "execution_count": null,
   "metadata": {
    "ExecuteTime": {
     "end_time": "2021-04-28T19:40:14.502635Z",
     "start_time": "2021-04-28T19:28:23.765Z"
    },
    "_cell_guid": "c9c4174c-bd28-47df-9919-e951f45bd7f2",
    "_kg_hide-input": true,
    "_uuid": "43c2d31561df475b5c56f5123c3d1080ed3990a2"
   },
   "outputs": [],
   "source": [
    "X_train, X_test, Y_train, Y_test = model_selection.train_test_split(X, Y, train_size = 0.8)"
   ]
  },
  {
   "cell_type": "markdown",
   "metadata": {},
   "source": [
    "___\n",
    "### Support Vector Machine Classifier (SVC)\n",
    "\n",
    "The first classifier I use is the SVC classifier. In order to use it, I create an instance of the `Class_Fit` class and then call` grid_search()`. When calling this method, I provide as parameters:\n",
    "- the hyperparameters for which I will seek an optimal value\n",
    "- the number of folds to be used for cross-validation"
   ]
  },
  {
   "cell_type": "code",
   "execution_count": null,
   "metadata": {
    "ExecuteTime": {
     "end_time": "2021-04-28T19:40:14.505904Z",
     "start_time": "2021-04-28T19:28:23.769Z"
    },
    "_cell_guid": "eb88bafc-1335-47e2-bc5d-469a551e54b6",
    "_kg_hide-input": true,
    "_uuid": "31ad3b4f07ec0b501f70909560735d21e3f5a8da"
   },
   "outputs": [],
   "source": [
    "svc = Class_Fit(clf = svm.LinearSVC)\n",
    "svc.grid_search(parameters = [{'C':np.logspace(-2,2,10)}], Kfold = 5)"
   ]
  },
  {
   "cell_type": "markdown",
   "metadata": {},
   "source": [
    "Once this instance is created, I adjust the classifier to the training data:"
   ]
  },
  {
   "cell_type": "code",
   "execution_count": null,
   "metadata": {
    "ExecuteTime": {
     "end_time": "2021-04-28T19:40:14.507949Z",
     "start_time": "2021-04-28T19:28:23.775Z"
    },
    "_cell_guid": "f8f0b1ec-6464-4a34-924c-85810c03a8ad",
    "_kg_hide-input": true,
    "_uuid": "174508011f559d2be87e39718f6798090edef992"
   },
   "outputs": [],
   "source": [
    "svc.grid_fit(X = X_train, Y = Y_train)"
   ]
  },
  {
   "cell_type": "markdown",
   "metadata": {},
   "source": [
    "then I can test the quality of the prediction with respect to the test data:"
   ]
  },
  {
   "cell_type": "code",
   "execution_count": null,
   "metadata": {
    "ExecuteTime": {
     "end_time": "2021-04-28T19:40:14.510175Z",
     "start_time": "2021-04-28T19:28:23.781Z"
    },
    "_cell_guid": "5031fd84-a7a4-4ce1-add7-03e4af50cb15",
    "_kg_hide-input": true,
    "_uuid": "314d70285360f73a73734e8583d1cb7e58c7f71d"
   },
   "outputs": [],
   "source": [
    "svc.grid_predict(X_test, Y_test)"
   ]
  },
  {
   "cell_type": "markdown",
   "metadata": {},
   "source": [
    "Note that for every run precision value may change"
   ]
  },
  {
   "cell_type": "markdown",
   "metadata": {},
   "source": [
    "___\n",
    "#### Confusion matrix\n",
    "\n",
    "The accuracy of the results seems to be correct. Nevertheless, let us remember that when the different classes were defined, there was an imbalance in size between the classes obtained. In particular, one class contains around 40% of the clients. It is therefore interesting to look at how the predictions and real values compare to the breasts of the different classes. This is the subject of the confusion matrices and to represent them, I use the code of the [sklearn documentation](http://scikit-learn.org/stable/auto_examples/model_selection/plot_confusion_matrix.html):"
   ]
  },
  {
   "cell_type": "code",
   "execution_count": null,
   "metadata": {
    "ExecuteTime": {
     "end_time": "2021-04-28T19:40:14.512741Z",
     "start_time": "2021-04-28T19:28:23.786Z"
    },
    "_cell_guid": "3d334a90-3134-4e66-babd-7f2ea02efb11",
    "_kg_hide-input": true,
    "_uuid": "50e9d977bebb38f3568c91ab1856061774d115c6"
   },
   "outputs": [],
   "source": [
    "def plot_confusion_matrix(cm, classes, normalize=False, title='Confusion matrix', cmap=plt.cm.Blues):\n",
    "    if normalize:\n",
    "        cm = cm.astype('float') / cm.sum(axis=1)[:, np.newaxis]\n",
    "        print(\"Normalized confusion matrix\")\n",
    "    else:\n",
    "        print('Confusion matrix, without normalization')\n",
    "    \n",
    "    plt.imshow(cm, interpolation='nearest', cmap=cmap)\n",
    "    plt.title(title)\n",
    "    plt.colorbar()\n",
    "    tick_marks = np.arange(len(classes))\n",
    "    plt.xticks(tick_marks, classes, rotation=0)\n",
    "    plt.yticks(tick_marks, classes)\n",
    "   \n",
    "    fmt = '.2f' if normalize else 'd'\n",
    "    thresh = cm.max() / 2.\n",
    "    for i, j in itertools.product(range(cm.shape[0]), range(cm.shape[1])):\n",
    "        plt.text(j, i, format(cm[i, j], fmt),\n",
    "                 horizontalalignment=\"center\",\n",
    "                 color=\"white\" if cm[i, j] > thresh else \"black\")\n",
    "    #_________________________________________________\n",
    "    plt.tight_layout()\n",
    "    plt.ylabel('True label')\n",
    "    plt.xlabel('Predicted label')"
   ]
  },
  {
   "cell_type": "markdown",
   "metadata": {},
   "source": [
    "from which I create the following representation:"
   ]
  },
  {
   "cell_type": "code",
   "execution_count": null,
   "metadata": {
    "ExecuteTime": {
     "end_time": "2021-04-28T19:40:14.515449Z",
     "start_time": "2021-04-28T19:28:23.791Z"
    },
    "_cell_guid": "eea554d8-a672-4f1e-a6cf-ef4bf6a6950b",
    "_kg_hide-input": true,
    "_uuid": "edb4632a50b983e80ab28fca93b80e9117d14fc6"
   },
   "outputs": [],
   "source": [
    "class_names = [i for i in range(11)]\n",
    "cnf_matrix = confusion_matrix(Y_test, svc.predictions) \n",
    "np.set_printoptions(precision=2)\n",
    "plt.figure(figsize = (8,8))\n",
    "plot_confusion_matrix(cnf_matrix, classes=class_names, normalize = False, title='Confusion matrix')"
   ]
  },
  {
   "cell_type": "markdown",
   "metadata": {},
   "source": [
    "\n",
    "----------------\n",
    "#### Learning curve\n",
    "\n",
    "A typical way to test the quality of a fit is to draw a learning curve. In particular, this type of curves allow to detect possible drawbacks in the model, linked for example to over- or under-fitting. This also shows to which extent the mode could benefit from a larger data sample. In order to draw this curve, I use the [scikit-learn documentation code again](http://scikit-learn.org/stable/auto_examples/model_selection/plot_learning_curve.html#sphx-glr- self-examples-model-selection-pad-learning-curve-py)"
   ]
  },
  {
   "cell_type": "code",
   "execution_count": null,
   "metadata": {
    "ExecuteTime": {
     "end_time": "2021-04-28T19:40:14.517964Z",
     "start_time": "2021-04-28T19:28:23.795Z"
    },
    "_cell_guid": "76b2a6bb-aa79-406f-95ff-48fb3946c5a8",
    "_kg_hide-input": true,
    "_uuid": "199d688e55c37ba527adb63c31a0c243a45ba8da"
   },
   "outputs": [],
   "source": [
    "def plot_learning_curve(estimator, title, X, y, ylim=None, cv=None,\n",
    "                        n_jobs=-1, train_sizes=np.linspace(.1, 1.0, 10)):\n",
    "    \"\"\"Generate a simple plot of the test and training learning curve\"\"\"\n",
    "    plt.figure()\n",
    "    plt.title(title)\n",
    "    if ylim is not None:\n",
    "        plt.ylim(*ylim)\n",
    "    plt.xlabel(\"Training examples\")\n",
    "    plt.ylabel(\"Score\")\n",
    "    train_sizes, train_scores, test_scores = learning_curve(\n",
    "        estimator, X, y, cv=cv, n_jobs=n_jobs, train_sizes=train_sizes)\n",
    "    train_scores_mean = np.mean(train_scores, axis=1)\n",
    "    train_scores_std = np.std(train_scores, axis=1)\n",
    "    test_scores_mean = np.mean(test_scores, axis=1)\n",
    "    test_scores_std = np.std(test_scores, axis=1)\n",
    "    plt.grid()\n",
    "\n",
    "    plt.fill_between(train_sizes, train_scores_mean - train_scores_std,\n",
    "                     train_scores_mean + train_scores_std, alpha=0.1, color=\"r\")\n",
    "    plt.fill_between(train_sizes, test_scores_mean - test_scores_std,\n",
    "                     test_scores_mean + test_scores_std, alpha=0.1, color=\"g\")\n",
    "    plt.plot(train_sizes, train_scores_mean, 'o-', color=\"r\", label=\"Training score\")\n",
    "    plt.plot(train_sizes, test_scores_mean, 'o-', color=\"g\", label=\"Cross-validation score\")\n",
    "\n",
    "    plt.legend(loc=\"best\")\n",
    "    return plt"
   ]
  },
  {
   "cell_type": "markdown",
   "metadata": {},
   "source": [
    "from which I represent the leanring curve of the SVC classifier:"
   ]
  },
  {
   "cell_type": "code",
   "execution_count": null,
   "metadata": {
    "ExecuteTime": {
     "end_time": "2021-04-28T19:40:14.520407Z",
     "start_time": "2021-04-28T19:28:23.800Z"
    },
    "_cell_guid": "5e33dcc9-e613-4098-b282-70cd63c59768",
    "_kg_hide-input": true,
    "_uuid": "b89f7776830508bb4a4424c8cdecbe9b6765f43c",
    "scrolled": true
   },
   "outputs": [],
   "source": [
    "g = plot_learning_curve(svc.grid.best_estimator_,\n",
    "                        \"SVC learning curves\", X_train, Y_train, ylim = [1.01, 0.6],\n",
    "                        cv = 5,  train_sizes = [0.05, 0.1, 0.2, 0.3, 0.4, 0.5,\n",
    "                                                0.6, 0.7, 0.8, 0.9, 1])"
   ]
  },
  {
   "cell_type": "markdown",
   "metadata": {},
   "source": [
    "On this curve, we can see that the train and cross-validation curves converge towards the same limit when the sample size increases. This is typical of modeling with low variance and proves that the model does not suffer from overfitting. Also, we can see that the accuracy of the training curve is correct which is synonymous of a low bias. Hence the model does not underfit the data.\n",
    "\n",
    "___"
   ]
  },
  {
   "cell_type": "markdown",
   "metadata": {},
   "source": [
    "## Revised approach\n",
    "\n",
    "### Logistic Regression\n",
    "\n",
    "I now consider the logistic regression classifier. As before, I create an instance of the `Class_Fit` class, adjust the model on the training data and see how the predictions compare to the real values:"
   ]
  },
  {
   "cell_type": "code",
   "execution_count": null,
   "metadata": {
    "ExecuteTime": {
     "end_time": "2021-04-28T19:40:14.522763Z",
     "start_time": "2021-04-28T19:28:23.807Z"
    },
    "_cell_guid": "c37cd77b-f96d-483b-bb57-14db65f97039",
    "_kg_hide-input": true,
    "_uuid": "9ee59b5060327224a4356be75ee1221b4e9fb0ab"
   },
   "outputs": [],
   "source": [
    "lr = Class_Fit(clf = linear_model.LogisticRegression)\n",
    "lr.grid_search(parameters = [{'C':np.logspace(-2,2,20)}], Kfold = 5)\n",
    "lr.grid_fit(X = X_train, Y = Y_train)\n",
    "lr.grid_predict(X_test, Y_test)"
   ]
  },
  {
   "cell_type": "markdown",
   "metadata": {},
   "source": [
    "Then, I plot the learning curve to have a feeling of the quality of the model:"
   ]
  },
  {
   "cell_type": "code",
   "execution_count": null,
   "metadata": {
    "ExecuteTime": {
     "end_time": "2021-04-28T19:40:14.524918Z",
     "start_time": "2021-04-28T19:28:23.812Z"
    },
    "_cell_guid": "8c4c95f0-8116-4501-ae86-7df54fa6a8dd",
    "_kg_hide-input": true,
    "_uuid": "203206e691175e8ff82cf72cfb34e82ffd2acf0c"
   },
   "outputs": [],
   "source": [
    "g = plot_learning_curve(lr.grid.best_estimator_, \"Logistic Regression learning curves\", X_train, Y_train,\n",
    "                        ylim = [1.01, 0.7], cv = 5, \n",
    "                        train_sizes = [0.05, 0.1, 0.2, 0.3, 0.4, 0.5, 0.6, 0.7, 0.8, 0.9, 1])"
   ]
  },
  {
   "cell_type": "markdown",
   "metadata": {},
   "source": [
    "----\n",
    "### k-Nearest Neighbors"
   ]
  },
  {
   "cell_type": "code",
   "execution_count": null,
   "metadata": {
    "ExecuteTime": {
     "end_time": "2021-04-28T19:40:14.527005Z",
     "start_time": "2021-04-28T19:28:23.817Z"
    },
    "_cell_guid": "93db008f-7525-4705-aa66-ca3e407bfa3f",
    "_kg_hide-input": true,
    "_uuid": "c898bc2cc957afd96dd317aecc160b23efe3c973"
   },
   "outputs": [],
   "source": [
    "knn = Class_Fit(clf = neighbors.KNeighborsClassifier)\n",
    "knn.grid_search(parameters = [{'n_neighbors': np.arange(1,50,1)}], Kfold = 5)\n",
    "knn.grid_fit(X = X_train, Y = Y_train)\n",
    "knn.grid_predict(X_test, Y_test)"
   ]
  },
  {
   "cell_type": "code",
   "execution_count": null,
   "metadata": {
    "ExecuteTime": {
     "end_time": "2021-04-28T19:40:14.529534Z",
     "start_time": "2021-04-28T19:28:23.821Z"
    },
    "_cell_guid": "80b0d359-06f2-4f75-b394-c77eaefb6a37",
    "_kg_hide-input": true,
    "_uuid": "c10d7fca1e4070dd6a97e5d9f5879e3632d6e83c"
   },
   "outputs": [],
   "source": [
    "g = plot_learning_curve(knn.grid.best_estimator_, \"Nearest Neighbors learning curves\", X_train, Y_train,\n",
    "                        ylim = [1.01, 0.7], cv = 5, \n",
    "                        train_sizes = [0.05, 0.1, 0.2, 0.3, 0.4, 0.5, 0.6, 0.7, 0.8, 0.9, 1])"
   ]
  },
  {
   "cell_type": "markdown",
   "metadata": {},
   "source": [
    "### Decision Tree"
   ]
  },
  {
   "cell_type": "code",
   "execution_count": null,
   "metadata": {
    "ExecuteTime": {
     "end_time": "2021-04-28T19:40:14.532353Z",
     "start_time": "2021-04-28T19:28:23.826Z"
    },
    "_cell_guid": "0a4cd7ef-f03c-4c7a-8b78-0dc26dab137b",
    "_kg_hide-input": true,
    "_uuid": "48dbd3e263d5b8113b8ef64677e6df4c20076a7c"
   },
   "outputs": [],
   "source": [
    "tr = Class_Fit(clf = tree.DecisionTreeClassifier)\n",
    "tr.grid_search(parameters = [{'criterion' : ['entropy', 'gini'], 'max_features' :['sqrt', 'log2']}], Kfold = 5)\n",
    "tr.grid_fit(X = X_train, Y = Y_train)\n",
    "tr.grid_predict(X_test, Y_test)"
   ]
  },
  {
   "cell_type": "code",
   "execution_count": null,
   "metadata": {
    "ExecuteTime": {
     "end_time": "2021-04-28T19:40:14.534890Z",
     "start_time": "2021-04-28T19:28:23.830Z"
    },
    "_cell_guid": "896f795a-1cbb-4d08-9019-a1ab6963fc5c",
    "_kg_hide-input": true,
    "_uuid": "66fdbf731275232a3df7ef73fe54aeeef8dd0c33"
   },
   "outputs": [],
   "source": [
    "g = plot_learning_curve(tr.grid.best_estimator_, \"Decision tree learning curves\", X_train, Y_train,\n",
    "                        ylim = [1.01, 0.7], cv = 5, \n",
    "                        train_sizes = [0.05, 0.1, 0.2, 0.3, 0.4, 0.5, 0.6, 0.7, 0.8, 0.9, 1])"
   ]
  },
  {
   "cell_type": "markdown",
   "metadata": {},
   "source": [
    "### Random Forest"
   ]
  },
  {
   "cell_type": "code",
   "execution_count": null,
   "metadata": {
    "ExecuteTime": {
     "end_time": "2021-04-28T19:40:14.537096Z",
     "start_time": "2021-04-28T19:28:23.835Z"
    },
    "_cell_guid": "191ce09c-a67d-434e-99e2-f186d9b21095",
    "_kg_hide-input": true,
    "_uuid": "5fd4df1e26bd7cdf10dfcf245fddafff86790f8c"
   },
   "outputs": [],
   "source": [
    "rf = Class_Fit(clf = ensemble.RandomForestClassifier)\n",
    "param_grid = {'criterion' : ['entropy', 'gini'], 'n_estimators' : [20, 40, 60, 80, 100],\n",
    "               'max_features' :['sqrt', 'log2']}\n",
    "rf.grid_search(parameters = param_grid, Kfold = 5)\n",
    "rf.grid_fit(X = X_train, Y = Y_train)\n",
    "rf.grid_predict(X_test, Y_test)"
   ]
  },
  {
   "cell_type": "code",
   "execution_count": null,
   "metadata": {
    "ExecuteTime": {
     "end_time": "2021-04-28T19:40:14.539127Z",
     "start_time": "2021-04-28T19:28:23.839Z"
    },
    "_cell_guid": "8ea75385-53a0-42d2-8f14-0b0d89032b41",
    "_kg_hide-input": true,
    "_uuid": "8bd7e9d31969f8b5fc548ad856012d3027faa9a5"
   },
   "outputs": [],
   "source": [
    "g = plot_learning_curve(rf.grid.best_estimator_, \"Random Forest learning curves\", X_train, Y_train,\n",
    "                        ylim = [1.01, 0.7], cv = 5, \n",
    "                        train_sizes = [0.05, 0.1, 0.2, 0.3, 0.4, 0.5, 0.6, 0.7, 0.8, 0.9, 1])"
   ]
  },
  {
   "cell_type": "markdown",
   "metadata": {},
   "source": [
    "### AdaBoost Classifier"
   ]
  },
  {
   "cell_type": "code",
   "execution_count": null,
   "metadata": {
    "ExecuteTime": {
     "end_time": "2021-04-28T19:40:14.540821Z",
     "start_time": "2021-04-28T19:28:23.844Z"
    },
    "_cell_guid": "91c38cf5-f042-47d8-b74e-f7a0f9718f26",
    "_kg_hide-input": true,
    "_uuid": "26780fd696188d6b3f8cd9dad2f187003148ee19"
   },
   "outputs": [],
   "source": [
    "ada = Class_Fit(clf = AdaBoostClassifier)\n",
    "param_grid = {'n_estimators' : [10, 20, 30, 40, 50, 60, 70, 80, 90, 100]}\n",
    "ada.grid_search(parameters = param_grid, Kfold = 5)\n",
    "ada.grid_fit(X = X_train, Y = Y_train)\n",
    "ada.grid_predict(X_test, Y_test)"
   ]
  },
  {
   "cell_type": "code",
   "execution_count": null,
   "metadata": {
    "ExecuteTime": {
     "end_time": "2021-04-28T19:40:14.542920Z",
     "start_time": "2021-04-28T19:28:23.848Z"
    },
    "_cell_guid": "4d188502-2d63-49f6-96fc-51d08e381b39",
    "_kg_hide-input": true,
    "_uuid": "fbc49326d70e7ac314cc9c92f5baba69dc3cf7b8"
   },
   "outputs": [],
   "source": [
    "g = plot_learning_curve(ada.grid.best_estimator_, \"AdaBoost learning curves\", X_train, Y_train,\n",
    "                        ylim = [1.01, 0.4], cv = 5, \n",
    "                        train_sizes = [0.05, 0.1, 0.2, 0.3, 0.4, 0.5, 0.6, 0.7, 0.8, 0.9, 1])"
   ]
  },
  {
   "cell_type": "markdown",
   "metadata": {},
   "source": [
    "###  Gradient Boosting Classifier"
   ]
  },
  {
   "cell_type": "code",
   "execution_count": null,
   "metadata": {
    "ExecuteTime": {
     "end_time": "2021-04-28T19:40:14.545318Z",
     "start_time": "2021-04-28T19:28:23.853Z"
    },
    "_cell_guid": "d3cd367f-d2e9-498d-bb82-c1137dd21fdf",
    "_kg_hide-input": true,
    "_uuid": "f85e385c75291843a7c8db847aee48070f60e7ee"
   },
   "outputs": [],
   "source": [
    "gb = Class_Fit(clf = ensemble.GradientBoostingClassifier)\n",
    "param_grid = {'n_estimators' : [10, 20, 30, 40, 50, 60, 70, 80, 90, 100]}\n",
    "gb.grid_search(parameters = param_grid, Kfold = 5)\n",
    "gb.grid_fit(X = X_train, Y = Y_train)\n",
    "gb.grid_predict(X_test, Y_test)"
   ]
  },
  {
   "cell_type": "code",
   "execution_count": null,
   "metadata": {
    "ExecuteTime": {
     "end_time": "2021-04-28T19:40:14.548077Z",
     "start_time": "2021-04-28T19:28:23.857Z"
    },
    "_cell_guid": "2110efe3-4466-4bcb-a74a-0950253d7f60",
    "_kg_hide-input": true,
    "_uuid": "eeca4c1c096b8a40ea910e2472d5fb6ca44ebb19",
    "scrolled": true
   },
   "outputs": [],
   "source": [
    "g = plot_learning_curve(gb.grid.best_estimator_, \"Gradient Boosting learning curves\", X_train, Y_train,\n",
    "                        ylim = [1.01, 0.7], cv = 5, \n",
    "                        train_sizes = [0.05, 0.1, 0.2, 0.3, 0.4, 0.5, 0.6, 0.7, 0.8, 0.9, 1])"
   ]
  },
  {
   "cell_type": "markdown",
   "metadata": {},
   "source": [
    "------\n",
    "## Best approach\n",
    "### Let's vote !\n",
    "\n",
    "Finally, the results of the different classifiers presented in the previous sections can be combined to improve the classification model. This can be achieved by selecting the customer category as the one indicated by the majority of classifiers. To do this, I use the `VotingClassifier` method of the `sklearn` package. As a first step, I adjust the parameters of the various classifiers using the *best* parameters previously found:"
   ]
  },
  {
   "cell_type": "code",
   "execution_count": null,
   "metadata": {
    "ExecuteTime": {
     "end_time": "2021-04-28T19:40:14.550418Z",
     "start_time": "2021-04-28T19:28:23.863Z"
    },
    "_cell_guid": "532dcc6f-33a1-4726-a07a-e4bb2ef0b396",
    "_kg_hide-input": true,
    "_uuid": "40c82b43dd34bb9b7685c76bea0f5ca7e761c1d4"
   },
   "outputs": [],
   "source": [
    "rf_best  = ensemble.RandomForestClassifier(**rf.grid.best_params_)\n",
    "gb_best  = ensemble.GradientBoostingClassifier(**gb.grid.best_params_)\n",
    "svc_best = svm.LinearSVC(**svc.grid.best_params_)\n",
    "tr_best  = tree.DecisionTreeClassifier(**tr.grid.best_params_)\n",
    "knn_best = neighbors.KNeighborsClassifier(**knn.grid.best_params_)\n",
    "lr_best  = linear_model.LogisticRegression(**lr.grid.best_params_)"
   ]
  },
  {
   "cell_type": "markdown",
   "metadata": {},
   "source": [
    "Then, I define a classifier that merges the results of the various classifiers:"
   ]
  },
  {
   "cell_type": "code",
   "execution_count": null,
   "metadata": {
    "ExecuteTime": {
     "end_time": "2021-04-28T19:40:14.553191Z",
     "start_time": "2021-04-28T19:28:23.868Z"
    },
    "_cell_guid": "7d80dd22-3e03-4069-b27d-cfad906a5acd",
    "_kg_hide-input": true,
    "_uuid": "9aedb584c04d4291460c4d30d215e6b2a33d879c"
   },
   "outputs": [],
   "source": [
    "votingC = ensemble.VotingClassifier(estimators=[('rf', rf_best),('gb', gb_best),\n",
    "                                                ('knn', knn_best)], voting='soft')    "
   ]
  },
  {
   "cell_type": "markdown",
   "metadata": {},
   "source": [
    "and train it:"
   ]
  },
  {
   "cell_type": "code",
   "execution_count": null,
   "metadata": {
    "ExecuteTime": {
     "end_time": "2021-04-28T19:40:14.556146Z",
     "start_time": "2021-04-28T19:28:23.873Z"
    },
    "_cell_guid": "bdd0e288-9e46-477b-94a1-a4bfa7fd9b93",
    "_kg_hide-input": true,
    "_uuid": "a89f838c7552464dd07c477ec3d9fd1aae91718c"
   },
   "outputs": [],
   "source": [
    "votingC = votingC.fit(X_train, Y_train)"
   ]
  },
  {
   "cell_type": "markdown",
   "metadata": {},
   "source": [
    "Finally, we can create a prediction for this model:"
   ]
  },
  {
   "cell_type": "code",
   "execution_count": null,
   "metadata": {
    "ExecuteTime": {
     "end_time": "2021-04-28T19:40:14.558228Z",
     "start_time": "2021-04-28T19:28:23.878Z"
    },
    "_cell_guid": "40d3aad9-7cdf-45b1-8848-863fd003dbe1",
    "_kg_hide-input": true,
    "_uuid": "d582d291f5e82fb666b2e7bc80acd2851c9d87c5"
   },
   "outputs": [],
   "source": [
    "predictions = votingC.predict(X_test)\n",
    "print(\"Precision: {:.2f} % \".format(100*metrics.accuracy_score(Y_test, predictions)))"
   ]
  },
  {
   "cell_type": "markdown",
   "metadata": {},
   "source": [
    "Note that when defining the `votingC` classifier, I only used a sub-sample of the whole set of classifiers defined above and only retained the *Random Forest*, the *k-Nearest Neighbors* and the *Gradient Boosting* classifiers. In practice, this choice has been done with respect to the performance of the classification carried out in the next section.\n",
    "\n",
    "___\n",
    "## Testing predictions\n",
    "\n",
    "In the previous section, a few classifiers were trained in order to categorize customers. Until that point, the whole analysis was based on the data of the first 10 months. In this section, I test the model  the last two months of the dataset, that has been stored in the `set_test` dataframe:"
   ]
  },
  {
   "cell_type": "code",
   "execution_count": null,
   "metadata": {
    "ExecuteTime": {
     "end_time": "2021-04-28T19:40:14.560315Z",
     "start_time": "2021-04-28T19:28:23.883Z"
    },
    "_cell_guid": "3b0d4452-2d4d-4640-af80-ae4d95a18ebe",
    "_kg_hide-input": true,
    "_uuid": "230cb86d7b613e90c2e5a6b386779c8847d83d58"
   },
   "outputs": [],
   "source": [
    "basket_price = set_test.copy(deep = True)"
   ]
  },
  {
   "cell_type": "markdown",
   "metadata": {},
   "source": [
    "In a first step, I regroup reformattes these data according to the same procedure as used on the training set. However, I am correcting the data to take into account the difference in time between the two datasets and weights the variables ** count ** and ** sum ** to obtain an equivalence with the training set:"
   ]
  },
  {
   "cell_type": "code",
   "execution_count": null,
   "metadata": {
    "ExecuteTime": {
     "end_time": "2021-04-28T19:40:14.562529Z",
     "start_time": "2021-04-28T19:28:23.889Z"
    },
    "_cell_guid": "a71444d2-fde7-422a-98c8-018d2ed8faff",
    "_kg_hide-input": true,
    "_uuid": "ad3b38fbda3b8da6f9ea86c0edbcf02002d1f277"
   },
   "outputs": [],
   "source": [
    "transactions_per_user=basket_price.groupby(by=['CustomerID'])['Basket Price'].agg(['count','min','max','mean','sum'])\n",
    "for i in range(5):\n",
    "    col = 'categ_{}'.format(i)\n",
    "    transactions_per_user.loc[:,col] = basket_price.groupby(by=['CustomerID'])[col].sum() /\\\n",
    "                                            transactions_per_user['sum']*100\n",
    "\n",
    "transactions_per_user.reset_index(drop = False, inplace = True)\n",
    "basket_price.groupby(by=['CustomerID'])['categ_0'].sum()\n",
    "\n",
    "#_______________________\n",
    "# Correcting time range\n",
    "transactions_per_user['count'] = 5 * transactions_per_user['count']\n",
    "transactions_per_user['sum']   = transactions_per_user['count'] * transactions_per_user['mean']\n",
    "\n",
    "transactions_per_user.sort_values('CustomerID', ascending = True)[:5]"
   ]
  },
  {
   "cell_type": "markdown",
   "metadata": {},
   "source": [
    "Then, I convert the dataframe into a matrix and retain only variables that define the category to which consumers belong. At this level, I recall the method of normalization that had been used on the training set:"
   ]
  },
  {
   "cell_type": "code",
   "execution_count": null,
   "metadata": {
    "ExecuteTime": {
     "end_time": "2021-04-28T19:40:14.564979Z",
     "start_time": "2021-04-28T19:28:23.895Z"
    },
    "_cell_guid": "ad4089ab-f703-483c-8d03-65f3c282c49a",
    "_kg_hide-input": true,
    "_uuid": "926c8e08380d645553e2c939c1bffd485e52b02e"
   },
   "outputs": [],
   "source": [
    "list_cols = ['count','min','max','mean','categ_0','categ_1','categ_2','categ_3','categ_4']\n",
    "#_____________________________________________________________\n",
    "matrix_test = np.matrix(transactions_per_user[list_cols])\n",
    "scaled_test_matrix = scaler.transform(matrix_test)"
   ]
  },
  {
   "cell_type": "markdown",
   "metadata": {},
   "source": [
    "Each line in this matrix contains a consumer's buying habits. At this stage, it is a question of using these habits in order to define the category to which the consumer belongs. These categories have been established in Section 4. ** At this stage, it is important to bear in mind that this step does not correspond to the classification stage itself**. Here, we prepare the test data by defining the category to which the customers belong. However, this definition uses data obtained over a period of 2 months (via the variables ** count **, ** min **, ** max ** and ** sum **). The classifier defined in Section 5 uses a more restricted set of variables that will be defined from the first purchase of a client.\n",
    "\n",
    "Here it is a question of using the available data over a period of two months and using this data to define the category to which the customers belong. Then, the classifier can be tested by comparing its predictions with these categories. In order to define the category to which the clients belong, I recall the instance of the `kmeans` method used in section 4. The` predict` method of this instance calculates the distance of the consumers from the centroids of the 11 client classes and the smallest distance will define the belonging to the different categories:"
   ]
  },
  {
   "cell_type": "code",
   "execution_count": null,
   "metadata": {
    "ExecuteTime": {
     "end_time": "2021-04-28T19:40:14.567279Z",
     "start_time": "2021-04-28T19:28:23.900Z"
    },
    "_cell_guid": "7627cb8b-d69c-45b2-9460-e37f3440a2cf",
    "_kg_hide-input": true,
    "_uuid": "25274ee1b5fcb9ada2496fef0479ed26b8c90fea"
   },
   "outputs": [],
   "source": [
    "Y = kmeans.predict(scaled_test_matrix)"
   ]
  },
  {
   "cell_type": "markdown",
   "metadata": {},
   "source": [
    "Finally, in order to prepare the execution of the classifier, it is sufficient to select the variables on which it acts:"
   ]
  },
  {
   "cell_type": "code",
   "execution_count": null,
   "metadata": {
    "ExecuteTime": {
     "end_time": "2021-04-28T19:40:14.569659Z",
     "start_time": "2021-04-28T19:28:23.906Z"
    },
    "_cell_guid": "dc376e15-18a7-45d8-a941-804945f13d0c",
    "_kg_hide-input": true,
    "_uuid": "db8446dff217a860253c13c56bb6e30e03270e54"
   },
   "outputs": [],
   "source": [
    "columns = ['mean', 'categ_0', 'categ_1', 'categ_2', 'categ_3', 'categ_4' ]\n",
    "X = transactions_per_user[columns]"
   ]
  },
  {
   "cell_type": "markdown",
   "metadata": {},
   "source": [
    "It remains only to examine the predictions of the different classifiers that have been trained earlier"
   ]
  },
  {
   "cell_type": "code",
   "execution_count": null,
   "metadata": {
    "ExecuteTime": {
     "end_time": "2021-04-28T19:40:14.571761Z",
     "start_time": "2021-04-28T19:28:23.911Z"
    },
    "_cell_guid": "1226d84c-0b7b-4d0d-b55a-c9c39c9f0d9a",
    "_kg_hide-input": true,
    "_uuid": "a77b2c4f0fba4a51a4d8915e3cd684e3afd3b6fa"
   },
   "outputs": [],
   "source": [
    "classifiers = [(svc, 'Support Vector Machine'),\n",
    "                (lr, 'Logostic Regression'),\n",
    "                (knn, 'k-Nearest Neighbors'),\n",
    "                (tr, 'Decision Tree'),\n",
    "                (rf, 'Random Forest'),\n",
    "                (gb, 'Gradient Boosting')]\n",
    "#______________________________\n",
    "for clf, label in classifiers:\n",
    "    print(30*'_', '\\n{}'.format(label))\n",
    "    clf.grid_predict(X, Y)"
   ]
  },
  {
   "cell_type": "markdown",
   "metadata": {},
   "source": [
    "Finally, as anticipated in revised approach, it is possible to improve the quality of the classifier by combining their respective predictions. At this level, I chose to mix *Random Forest*, *Gradient Boosting* and *k-Nearest Neighbors* predictions because this leads to a slight improvement in predictions:"
   ]
  },
  {
   "cell_type": "code",
   "execution_count": null,
   "metadata": {
    "ExecuteTime": {
     "end_time": "2021-04-28T19:40:14.573937Z",
     "start_time": "2021-04-28T19:28:23.917Z"
    },
    "_cell_guid": "13682ddc-d732-4839-a314-ec1bcd00cf2a",
    "_kg_hide-input": true,
    "_uuid": "fb82ea972aae88f12a6466a785c7be659984579c"
   },
   "outputs": [],
   "source": [
    "predictions = votingC.predict(X)\n",
    "print(\"Precision: {:.2f} % \".format(100*metrics.accuracy_score(Y, predictions)))"
   ]
  },
  {
   "cell_type": "code",
   "execution_count": null,
   "metadata": {},
   "outputs": [],
   "source": []
  },
  {
   "cell_type": "code",
   "execution_count": null,
   "metadata": {},
   "outputs": [],
   "source": []
  }
 ],
 "metadata": {
  "kernelspec": {
   "display_name": "Python 3",
   "language": "python",
   "name": "python3"
  },
  "language_info": {
   "codemirror_mode": {
    "name": "ipython",
    "version": 3
   },
   "file_extension": ".py",
   "mimetype": "text/x-python",
   "name": "python",
   "nbconvert_exporter": "python",
   "pygments_lexer": "ipython3",
   "version": "3.7.4"
  },
  "toc": {
   "base_numbering": 1,
   "nav_menu": {},
   "number_sections": true,
   "sideBar": true,
   "skip_h1_title": false,
   "title_cell": "Table of Contents",
   "title_sidebar": "Contents",
   "toc_cell": false,
   "toc_position": {},
   "toc_section_display": true,
   "toc_window_display": false
  },
  "varInspector": {
   "cols": {
    "lenName": 16,
    "lenType": 16,
    "lenVar": 40
   },
   "kernels_config": {
    "python": {
     "delete_cmd_postfix": "",
     "delete_cmd_prefix": "del ",
     "library": "var_list.py",
     "varRefreshCmd": "print(var_dic_list())"
    },
    "r": {
     "delete_cmd_postfix": ") ",
     "delete_cmd_prefix": "rm(",
     "library": "var_list.r",
     "varRefreshCmd": "cat(var_dic_list()) "
    }
   },
   "types_to_exclude": [
    "module",
    "function",
    "builtin_function_or_method",
    "instance",
    "_Feature"
   ],
   "window_display": false
  }
 },
 "nbformat": 4,
 "nbformat_minor": 2
}
